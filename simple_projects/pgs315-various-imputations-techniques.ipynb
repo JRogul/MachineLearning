{
 "cells": [
  {
   "cell_type": "code",
   "execution_count": 1,
   "id": "c9fc9840",
   "metadata": {
    "_cell_guid": "b1076dfc-b9ad-4769-8c92-a6c4dae69d19",
    "_uuid": "8f2839f25d086af736a60e9eeb907d3b93b6e0e5",
    "execution": {
     "iopub.execute_input": "2023-05-23T07:19:10.756447Z",
     "iopub.status.busy": "2023-05-23T07:19:10.755240Z",
     "iopub.status.idle": "2023-05-23T07:19:13.641441Z",
     "shell.execute_reply": "2023-05-23T07:19:13.640460Z"
    },
    "papermill": {
     "duration": 2.904041,
     "end_time": "2023-05-23T07:19:13.644256",
     "exception": false,
     "start_time": "2023-05-23T07:19:10.740215",
     "status": "completed"
    },
    "tags": []
   },
   "outputs": [
    {
     "name": "stderr",
     "output_type": "stream",
     "text": [
      "/opt/conda/lib/python3.10/site-packages/scipy/__init__.py:146: UserWarning: A NumPy version >=1.16.5 and <1.23.0 is required for this version of SciPy (detected version 1.23.5\n",
      "  warnings.warn(f\"A NumPy version >={np_minversion} and <{np_maxversion}\"\n"
     ]
    }
   ],
   "source": [
    "import numpy as np \n",
    "import pandas as pd \n",
    "\n",
    "import lightgbm as lgm\n",
    "from math import sqrt \n",
    "\n",
    "from sklearn.pipeline import Pipeline\n",
    "from sklearn.preprocessing import OneHotEncoder, StandardScaler\n",
    "from sklearn.compose import ColumnTransformer\n",
    "from sklearn.model_selection import KFold, train_test_split\n",
    "from sklearn.metrics import mean_squared_error\n",
    "from sklearn.preprocessing import OrdinalEncoder\n",
    "\n",
    "from sklearn.impute import KNNImputer, SimpleImputer\n",
    "from sklearn.experimental import enable_iterative_imputer\n",
    "from sklearn.impute import IterativeImputer\n",
    "\n",
    "from catboost import CatBoostRegressor,CatBoostClassifier"
   ]
  },
  {
   "cell_type": "code",
   "execution_count": 2,
   "id": "39e02131",
   "metadata": {
    "execution": {
     "iopub.execute_input": "2023-05-23T07:19:13.672554Z",
     "iopub.status.busy": "2023-05-23T07:19:13.672098Z",
     "iopub.status.idle": "2023-05-23T07:19:13.790457Z",
     "shell.execute_reply": "2023-05-23T07:19:13.789420Z"
    },
    "papermill": {
     "duration": 0.135408,
     "end_time": "2023-05-23T07:19:13.792991",
     "exception": false,
     "start_time": "2023-05-23T07:19:13.657583",
     "status": "completed"
    },
    "tags": []
   },
   "outputs": [],
   "source": [
    "df1 = pd.read_csv('/kaggle/input/playground-series-s3e15/data.csv')\n",
    "df2 = pd.read_csv('/kaggle/input/predicting-heat-flux/Data_CHF_Zhao_2020_ATE.csv')\n",
    "df_sub = pd.read_csv('/kaggle/input/playground-series-s3e15/sample_submission.csv')\n",
    "df = pd.concat([df1, df2])\n",
    "\n",
    "results_df = pd.DataFrame(columns= ['num_imputer', 'cat_imputer', 'score_5kf'])"
   ]
  },
  {
   "cell_type": "code",
   "execution_count": 3,
   "id": "351d097b",
   "metadata": {
    "execution": {
     "iopub.execute_input": "2023-05-23T07:19:13.821416Z",
     "iopub.status.busy": "2023-05-23T07:19:13.820707Z",
     "iopub.status.idle": "2023-05-23T07:19:13.856814Z",
     "shell.execute_reply": "2023-05-23T07:19:13.856015Z"
    },
    "papermill": {
     "duration": 0.052804,
     "end_time": "2023-05-23T07:19:13.858893",
     "exception": false,
     "start_time": "2023-05-23T07:19:13.806089",
     "status": "completed"
    },
    "tags": []
   },
   "outputs": [
    {
     "data": {
      "text/plain": [
       "id                     0.000000\n",
       "author                 0.149930\n",
       "geometry               0.164135\n",
       "pressure [MPa]         0.132860\n",
       "mass_flux [kg/m2-s]    0.142977\n",
       "x_e_out [-]            0.310812\n",
       "D_e [mm]               0.163777\n",
       "D_h [mm]               0.136948\n",
       "length [mm]            0.142022\n",
       "chf_exp [MW/m2]        0.000000\n",
       "dtype: float64"
      ]
     },
     "execution_count": 3,
     "metadata": {},
     "output_type": "execute_result"
    }
   ],
   "source": [
    "df.isna().sum() / len(df)"
   ]
  },
  {
   "cell_type": "markdown",
   "id": "42d55e1d",
   "metadata": {
    "papermill": {
     "duration": 0.013488,
     "end_time": "2023-05-23T07:19:13.885876",
     "exception": false,
     "start_time": "2023-05-23T07:19:13.872388",
     "status": "completed"
    },
    "tags": []
   },
   "source": [
    "There are a lof of missing values in each column (except chf_exp [MW/m2] ), ranging between 13-17% (excluding target variable)"
   ]
  },
  {
   "cell_type": "markdown",
   "id": "a5082842",
   "metadata": {
    "papermill": {
     "duration": 0.012821,
     "end_time": "2023-05-23T07:19:13.911921",
     "exception": false,
     "start_time": "2023-05-23T07:19:13.899100",
     "status": "completed"
    },
    "tags": []
   },
   "source": [
    "Basic train/test split base on missing target values"
   ]
  },
  {
   "cell_type": "code",
   "execution_count": 4,
   "id": "44ec91c5",
   "metadata": {
    "execution": {
     "iopub.execute_input": "2023-05-23T07:19:13.940894Z",
     "iopub.status.busy": "2023-05-23T07:19:13.940013Z",
     "iopub.status.idle": "2023-05-23T07:19:13.958716Z",
     "shell.execute_reply": "2023-05-23T07:19:13.957590Z"
    },
    "papermill": {
     "duration": 0.035598,
     "end_time": "2023-05-23T07:19:13.961000",
     "exception": false,
     "start_time": "2023-05-23T07:19:13.925402",
     "status": "completed"
    },
    "tags": []
   },
   "outputs": [
    {
     "name": "stdout",
     "output_type": "stream",
     "text": [
      "23094 10415\n"
     ]
    }
   ],
   "source": [
    "df_train = df[~df['x_e_out [-]'].isna()]\n",
    "y = df_train['x_e_out [-]']\n",
    "\n",
    "df_train = df_train.drop(columns=['x_e_out [-]', 'id'])\n",
    "df_test= df[df['x_e_out [-]'].isna()]\n",
    "print(len(df_train), len(df_test))"
   ]
  },
  {
   "cell_type": "markdown",
   "id": "450390d4",
   "metadata": {
    "papermill": {
     "duration": 0.013084,
     "end_time": "2023-05-23T07:19:13.987666",
     "exception": false,
     "start_time": "2023-05-23T07:19:13.974582",
     "status": "completed"
    },
    "tags": []
   },
   "source": [
    "Splitting numeriacal and categorical features"
   ]
  },
  {
   "cell_type": "code",
   "execution_count": 5,
   "id": "564c020c",
   "metadata": {
    "execution": {
     "iopub.execute_input": "2023-05-23T07:19:14.016838Z",
     "iopub.status.busy": "2023-05-23T07:19:14.015701Z",
     "iopub.status.idle": "2023-05-23T07:19:14.023646Z",
     "shell.execute_reply": "2023-05-23T07:19:14.022759Z"
    },
    "papermill": {
     "duration": 0.024775,
     "end_time": "2023-05-23T07:19:14.025715",
     "exception": false,
     "start_time": "2023-05-23T07:19:14.000940",
     "status": "completed"
    },
    "tags": []
   },
   "outputs": [
    {
     "name": "stdout",
     "output_type": "stream",
     "text": [
      "['pressure [MPa]', 'mass_flux [kg/m2-s]', 'D_e [mm]', 'D_h [mm]', 'length [mm]', 'chf_exp [MW/m2]']\n",
      "['author', 'geometry']\n"
     ]
    }
   ],
   "source": [
    "num_cols = df_train.select_dtypes(include='float64').columns.tolist()\n",
    "cat_cols = df_train.select_dtypes(include='object').columns.tolist()\n",
    "print(num_cols)\n",
    "print(cat_cols)"
   ]
  },
  {
   "cell_type": "markdown",
   "id": "9b687250",
   "metadata": {
    "papermill": {
     "duration": 0.013055,
     "end_time": "2023-05-23T07:19:14.051971",
     "exception": false,
     "start_time": "2023-05-23T07:19:14.038916",
     "status": "completed"
    },
    "tags": []
   },
   "source": [
    "# Median / Mode / Mean imputations\n",
    "The simplest method for imputation is filling missing values with column mean, median or mode."
   ]
  },
  {
   "cell_type": "code",
   "execution_count": 6,
   "id": "188f89f0",
   "metadata": {
    "execution": {
     "iopub.execute_input": "2023-05-23T07:19:14.081230Z",
     "iopub.status.busy": "2023-05-23T07:19:14.080051Z",
     "iopub.status.idle": "2023-05-23T07:19:14.089010Z",
     "shell.execute_reply": "2023-05-23T07:19:14.088067Z"
    },
    "papermill": {
     "duration": 0.026244,
     "end_time": "2023-05-23T07:19:14.091440",
     "exception": false,
     "start_time": "2023-05-23T07:19:14.065196",
     "status": "completed"
    },
    "tags": []
   },
   "outputs": [],
   "source": [
    "def create_pipeline(strategy = None, \n",
    "                    numeric_transformer =True, \n",
    "                    categorical_transformer=True):\n",
    "    \n",
    "    if numeric_transformer == True:\n",
    "        numeric_transformer = Pipeline(steps=[\n",
    "            ('imputer', SimpleImputer(strategy=strategy)),\n",
    "            ])\n",
    "    else:\n",
    "        numeric_transformer = Pipeline(steps=[\n",
    "            ('Scaler', StandardScaler())])\n",
    "    \n",
    "    if categorical_transformer == True:\n",
    "        categorical_transformer = Pipeline(steps=[\n",
    "            ('imputer', SimpleImputer(strategy='most_frequent')),\n",
    "            ('ohencoder', OneHotEncoder(sparse_output=False))])\n",
    "    else:\n",
    "        categorical_transformer = Pipeline(steps=[\n",
    "            ('ohencoder', OneHotEncoder(sparse_output=False))])\n",
    "        \n",
    "    preprocessor = ColumnTransformer(\n",
    "        transformers=[\n",
    "            ('num', numeric_transformer, num_cols),\n",
    "            ('cat', categorical_transformer, cat_cols)])\n",
    "    return preprocessor"
   ]
  },
  {
   "cell_type": "markdown",
   "id": "00abbeb6",
   "metadata": {
    "papermill": {
     "duration": 0.013088,
     "end_time": "2023-05-23T07:19:14.117846",
     "exception": false,
     "start_time": "2023-05-23T07:19:14.104758",
     "status": "completed"
    },
    "tags": []
   },
   "source": [
    "Validation is based on trainging simple  LGBMRegressor without any hyperparameters tunning on 5kfold split."
   ]
  },
  {
   "cell_type": "code",
   "execution_count": 7,
   "id": "f4a5c525",
   "metadata": {
    "execution": {
     "iopub.execute_input": "2023-05-23T07:19:14.147998Z",
     "iopub.status.busy": "2023-05-23T07:19:14.147561Z",
     "iopub.status.idle": "2023-05-23T07:19:14.156842Z",
     "shell.execute_reply": "2023-05-23T07:19:14.155898Z"
    },
    "papermill": {
     "duration": 0.027414,
     "end_time": "2023-05-23T07:19:14.159264",
     "exception": false,
     "start_time": "2023-05-23T07:19:14.131850",
     "status": "completed"
    },
    "tags": []
   },
   "outputs": [],
   "source": [
    "def train(preprocessor):\n",
    "    losses = []\n",
    "    kf = KFold(n_splits=5,shuffle=True, random_state=123)\n",
    "    for fold, (train_idx, val_idx) in enumerate(kf.split(df_train, y)):\n",
    "        X_train, y_train = df_train.iloc[train_idx], y.iloc[train_idx]\n",
    "        X_val, y_val = df_train.iloc[val_idx], y.iloc[val_idx]\n",
    "            \n",
    "        model = lgm.LGBMRegressor()\n",
    "        clf = Pipeline(steps=[('preprocessor', preprocessor),\n",
    "                              ('classifier', model)])\n",
    "        clf.fit(X_train, y_train)\n",
    "        preds = clf.predict(X_val)\n",
    "        loss = sqrt(mean_squared_error(y_val, preds))\n",
    "        losses.append(loss)\n",
    "    avg_loss = sum(losses) / len(losses)\n",
    "    return clf, avg_loss\n",
    "\n",
    "def train_kfold(preprocessor): \n",
    "    model, avg_loss = train(preprocessor)\n",
    "    print(f'average loss across 5 folds: {avg_loss:.5f}')\n",
    "    return avg_loss"
   ]
  },
  {
   "cell_type": "markdown",
   "id": "4f5771af",
   "metadata": {
    "papermill": {
     "duration": 0.012793,
     "end_time": "2023-05-23T07:19:14.185143",
     "exception": false,
     "start_time": "2023-05-23T07:19:14.172350",
     "status": "completed"
    },
    "tags": []
   },
   "source": [
    "## None "
   ]
  },
  {
   "cell_type": "code",
   "execution_count": 8,
   "id": "a61d7e1c",
   "metadata": {
    "execution": {
     "iopub.execute_input": "2023-05-23T07:19:14.214444Z",
     "iopub.status.busy": "2023-05-23T07:19:14.213780Z",
     "iopub.status.idle": "2023-05-23T07:19:17.989897Z",
     "shell.execute_reply": "2023-05-23T07:19:17.988728Z"
    },
    "papermill": {
     "duration": 3.793666,
     "end_time": "2023-05-23T07:19:17.992527",
     "exception": false,
     "start_time": "2023-05-23T07:19:14.198861",
     "status": "completed"
    },
    "tags": []
   },
   "outputs": [
    {
     "name": "stdout",
     "output_type": "stream",
     "text": [
      "average loss across 5 folds: 0.07316\n"
     ]
    }
   ],
   "source": [
    "preprocessor = create_pipeline(numeric_transformer=None)\n",
    "tmp = {'num_imputer': 'None', 'cat_imputer' : 'most_frequent', \n",
    "       'score_5kf' : train_kfold(preprocessor)}\n",
    "results_df = pd.concat([results_df, pd.DataFrame(tmp, index=[0])])"
   ]
  },
  {
   "cell_type": "markdown",
   "id": "cf3efe52",
   "metadata": {
    "papermill": {
     "duration": 0.01301,
     "end_time": "2023-05-23T07:19:18.019040",
     "exception": false,
     "start_time": "2023-05-23T07:19:18.006030",
     "status": "completed"
    },
    "tags": []
   },
   "source": [
    "### Mean"
   ]
  },
  {
   "cell_type": "code",
   "execution_count": 9,
   "id": "e2ef2244",
   "metadata": {
    "execution": {
     "iopub.execute_input": "2023-05-23T07:19:18.047424Z",
     "iopub.status.busy": "2023-05-23T07:19:18.047041Z",
     "iopub.status.idle": "2023-05-23T07:19:21.748711Z",
     "shell.execute_reply": "2023-05-23T07:19:21.746138Z"
    },
    "papermill": {
     "duration": 3.719537,
     "end_time": "2023-05-23T07:19:21.751899",
     "exception": false,
     "start_time": "2023-05-23T07:19:18.032362",
     "status": "completed"
    },
    "tags": []
   },
   "outputs": [
    {
     "name": "stdout",
     "output_type": "stream",
     "text": [
      "average loss across 5 folds: 0.07314\n"
     ]
    }
   ],
   "source": [
    "strategy = 'mean'\n",
    "preprocessor = create_pipeline(strategy='mean')\n",
    "tmp = {'num_imputer': strategy, 'cat_imputer' : 'most_frequent', \n",
    "       'score_5kf' : train_kfold(preprocessor)}\n",
    "results_df = pd.concat([results_df, pd.DataFrame(tmp, index=[0])])"
   ]
  },
  {
   "cell_type": "markdown",
   "id": "035a0047",
   "metadata": {
    "papermill": {
     "duration": 0.013005,
     "end_time": "2023-05-23T07:19:21.778457",
     "exception": false,
     "start_time": "2023-05-23T07:19:21.765452",
     "status": "completed"
    },
    "tags": []
   },
   "source": [
    "### Median"
   ]
  },
  {
   "cell_type": "code",
   "execution_count": 10,
   "id": "13197021",
   "metadata": {
    "execution": {
     "iopub.execute_input": "2023-05-23T07:19:21.808499Z",
     "iopub.status.busy": "2023-05-23T07:19:21.807665Z",
     "iopub.status.idle": "2023-05-23T07:19:25.455595Z",
     "shell.execute_reply": "2023-05-23T07:19:25.454511Z"
    },
    "papermill": {
     "duration": 3.665857,
     "end_time": "2023-05-23T07:19:25.458187",
     "exception": false,
     "start_time": "2023-05-23T07:19:21.792330",
     "status": "completed"
    },
    "tags": []
   },
   "outputs": [
    {
     "name": "stdout",
     "output_type": "stream",
     "text": [
      "average loss across 5 folds: 0.07315\n"
     ]
    }
   ],
   "source": [
    "strategy = 'median'\n",
    "preprocessor = create_pipeline(strategy=strategy)\n",
    "tmp = {'num_imputer': strategy, 'cat_imputer' : 'most_frequent', \n",
    "       'score_5kf' : train_kfold(preprocessor)}\n",
    "results_df = pd.concat([results_df, pd.DataFrame(tmp, index=[0])])"
   ]
  },
  {
   "cell_type": "markdown",
   "id": "30d39224",
   "metadata": {
    "papermill": {
     "duration": 0.013222,
     "end_time": "2023-05-23T07:19:25.485121",
     "exception": false,
     "start_time": "2023-05-23T07:19:25.471899",
     "status": "completed"
    },
    "tags": []
   },
   "source": [
    "### Mode"
   ]
  },
  {
   "cell_type": "code",
   "execution_count": 11,
   "id": "0f6389ce",
   "metadata": {
    "execution": {
     "iopub.execute_input": "2023-05-23T07:19:25.515057Z",
     "iopub.status.busy": "2023-05-23T07:19:25.514380Z",
     "iopub.status.idle": "2023-05-23T07:19:29.186882Z",
     "shell.execute_reply": "2023-05-23T07:19:29.185349Z"
    },
    "papermill": {
     "duration": 3.690426,
     "end_time": "2023-05-23T07:19:29.189621",
     "exception": false,
     "start_time": "2023-05-23T07:19:25.499195",
     "status": "completed"
    },
    "tags": []
   },
   "outputs": [
    {
     "name": "stdout",
     "output_type": "stream",
     "text": [
      "average loss across 5 folds: 0.07326\n"
     ]
    }
   ],
   "source": [
    "strategy = 'most_frequent'\n",
    "preprocessor = create_pipeline(strategy=strategy)\n",
    "tmp = {'num_imputer': strategy, 'cat_imputer' : 'most_frequent', \n",
    "       'score_5kf' : train_kfold(preprocessor)}\n",
    "results_df = pd.concat([results_df, pd.DataFrame(tmp, index=[0])])"
   ]
  },
  {
   "cell_type": "code",
   "execution_count": 12,
   "id": "b9968cdb",
   "metadata": {
    "execution": {
     "iopub.execute_input": "2023-05-23T07:19:29.218973Z",
     "iopub.status.busy": "2023-05-23T07:19:29.218581Z",
     "iopub.status.idle": "2023-05-23T07:19:29.240858Z",
     "shell.execute_reply": "2023-05-23T07:19:29.239780Z"
    },
    "papermill": {
     "duration": 0.039957,
     "end_time": "2023-05-23T07:19:29.243424",
     "exception": false,
     "start_time": "2023-05-23T07:19:29.203467",
     "status": "completed"
    },
    "tags": []
   },
   "outputs": [
    {
     "data": {
      "text/html": [
       "<div>\n",
       "<style scoped>\n",
       "    .dataframe tbody tr th:only-of-type {\n",
       "        vertical-align: middle;\n",
       "    }\n",
       "\n",
       "    .dataframe tbody tr th {\n",
       "        vertical-align: top;\n",
       "    }\n",
       "\n",
       "    .dataframe thead th {\n",
       "        text-align: right;\n",
       "    }\n",
       "</style>\n",
       "<table border=\"1\" class=\"dataframe\">\n",
       "  <thead>\n",
       "    <tr style=\"text-align: right;\">\n",
       "      <th></th>\n",
       "      <th>num_imputer</th>\n",
       "      <th>cat_imputer</th>\n",
       "      <th>score_5kf</th>\n",
       "    </tr>\n",
       "  </thead>\n",
       "  <tbody>\n",
       "    <tr>\n",
       "      <th>0</th>\n",
       "      <td>None</td>\n",
       "      <td>most_frequent</td>\n",
       "      <td>0.073162</td>\n",
       "    </tr>\n",
       "    <tr>\n",
       "      <th>0</th>\n",
       "      <td>mean</td>\n",
       "      <td>most_frequent</td>\n",
       "      <td>0.073137</td>\n",
       "    </tr>\n",
       "    <tr>\n",
       "      <th>0</th>\n",
       "      <td>median</td>\n",
       "      <td>most_frequent</td>\n",
       "      <td>0.073147</td>\n",
       "    </tr>\n",
       "    <tr>\n",
       "      <th>0</th>\n",
       "      <td>most_frequent</td>\n",
       "      <td>most_frequent</td>\n",
       "      <td>0.073264</td>\n",
       "    </tr>\n",
       "  </tbody>\n",
       "</table>\n",
       "</div>"
      ],
      "text/plain": [
       "     num_imputer    cat_imputer  score_5kf\n",
       "0           None  most_frequent   0.073162\n",
       "0           mean  most_frequent   0.073137\n",
       "0         median  most_frequent   0.073147\n",
       "0  most_frequent  most_frequent   0.073264"
      ]
     },
     "execution_count": 12,
     "metadata": {},
     "output_type": "execute_result"
    }
   ],
   "source": [
    "results_df.head()"
   ]
  },
  {
   "cell_type": "markdown",
   "id": "90622bfb",
   "metadata": {
    "papermill": {
     "duration": 0.014097,
     "end_time": "2023-05-23T07:19:29.271942",
     "exception": false,
     "start_time": "2023-05-23T07:19:29.257845",
     "status": "completed"
    },
    "tags": []
   },
   "source": [
    "# IterativeImputer\n",
    "Iterative Imputer is a technique used for imputing missing values in a dataset by modeling each feature with missing values as a function of other features."
   ]
  },
  {
   "cell_type": "code",
   "execution_count": 13,
   "id": "be78c136",
   "metadata": {
    "execution": {
     "iopub.execute_input": "2023-05-23T07:19:29.301799Z",
     "iopub.status.busy": "2023-05-23T07:19:29.301399Z",
     "iopub.status.idle": "2023-05-23T07:19:33.134360Z",
     "shell.execute_reply": "2023-05-23T07:19:33.132789Z"
    },
    "papermill": {
     "duration": 3.851081,
     "end_time": "2023-05-23T07:19:33.137023",
     "exception": false,
     "start_time": "2023-05-23T07:19:29.285942",
     "status": "completed"
    },
    "tags": []
   },
   "outputs": [
    {
     "name": "stdout",
     "output_type": "stream",
     "text": [
      "average loss across 5 folds: 0.07316\n"
     ]
    }
   ],
   "source": [
    "preprocessor= create_pipeline(\n",
    "                              numeric_transformer =  Pipeline(steps=[('iterative', \n",
    "                                                        IterativeImputer())]),\n",
    "                             )\n",
    "tmp = {'num_imputer': 'iterative', 'cat_imputer' : 'most_frequent', \n",
    "       'score_5kf' : train_kfold(preprocessor)}\n",
    "results_df = pd.concat([results_df, pd.DataFrame(tmp, index=[0])])"
   ]
  },
  {
   "cell_type": "code",
   "execution_count": 14,
   "id": "45b6a2fc",
   "metadata": {
    "execution": {
     "iopub.execute_input": "2023-05-23T07:19:33.167441Z",
     "iopub.status.busy": "2023-05-23T07:19:33.167060Z",
     "iopub.status.idle": "2023-05-23T07:19:33.178615Z",
     "shell.execute_reply": "2023-05-23T07:19:33.177513Z"
    },
    "papermill": {
     "duration": 0.029733,
     "end_time": "2023-05-23T07:19:33.181207",
     "exception": false,
     "start_time": "2023-05-23T07:19:33.151474",
     "status": "completed"
    },
    "tags": []
   },
   "outputs": [
    {
     "data": {
      "text/html": [
       "<div>\n",
       "<style scoped>\n",
       "    .dataframe tbody tr th:only-of-type {\n",
       "        vertical-align: middle;\n",
       "    }\n",
       "\n",
       "    .dataframe tbody tr th {\n",
       "        vertical-align: top;\n",
       "    }\n",
       "\n",
       "    .dataframe thead th {\n",
       "        text-align: right;\n",
       "    }\n",
       "</style>\n",
       "<table border=\"1\" class=\"dataframe\">\n",
       "  <thead>\n",
       "    <tr style=\"text-align: right;\">\n",
       "      <th></th>\n",
       "      <th>num_imputer</th>\n",
       "      <th>cat_imputer</th>\n",
       "      <th>score_5kf</th>\n",
       "    </tr>\n",
       "  </thead>\n",
       "  <tbody>\n",
       "    <tr>\n",
       "      <th>0</th>\n",
       "      <td>None</td>\n",
       "      <td>most_frequent</td>\n",
       "      <td>0.073162</td>\n",
       "    </tr>\n",
       "    <tr>\n",
       "      <th>0</th>\n",
       "      <td>mean</td>\n",
       "      <td>most_frequent</td>\n",
       "      <td>0.073137</td>\n",
       "    </tr>\n",
       "    <tr>\n",
       "      <th>0</th>\n",
       "      <td>median</td>\n",
       "      <td>most_frequent</td>\n",
       "      <td>0.073147</td>\n",
       "    </tr>\n",
       "    <tr>\n",
       "      <th>0</th>\n",
       "      <td>most_frequent</td>\n",
       "      <td>most_frequent</td>\n",
       "      <td>0.073264</td>\n",
       "    </tr>\n",
       "    <tr>\n",
       "      <th>0</th>\n",
       "      <td>iterative</td>\n",
       "      <td>most_frequent</td>\n",
       "      <td>0.073162</td>\n",
       "    </tr>\n",
       "  </tbody>\n",
       "</table>\n",
       "</div>"
      ],
      "text/plain": [
       "     num_imputer    cat_imputer  score_5kf\n",
       "0           None  most_frequent   0.073162\n",
       "0           mean  most_frequent   0.073137\n",
       "0         median  most_frequent   0.073147\n",
       "0  most_frequent  most_frequent   0.073264\n",
       "0      iterative  most_frequent   0.073162"
      ]
     },
     "execution_count": 14,
     "metadata": {},
     "output_type": "execute_result"
    }
   ],
   "source": [
    "results_df.head()"
   ]
  },
  {
   "cell_type": "markdown",
   "id": "23120e0b",
   "metadata": {
    "papermill": {
     "duration": 0.014103,
     "end_time": "2023-05-23T07:19:33.209905",
     "exception": false,
     "start_time": "2023-05-23T07:19:33.195802",
     "status": "completed"
    },
    "tags": []
   },
   "source": [
    "# Nearest neighbors imputation\n",
    "Strategy used to impute missing values in a dataset by finding the most similar instances to the instance with missing values and using their values to fill in the missing ones."
   ]
  },
  {
   "cell_type": "code",
   "execution_count": 15,
   "id": "4442f9f4",
   "metadata": {
    "execution": {
     "iopub.execute_input": "2023-05-23T07:19:33.240494Z",
     "iopub.status.busy": "2023-05-23T07:19:33.240101Z",
     "iopub.status.idle": "2023-05-23T07:19:33.248131Z",
     "shell.execute_reply": "2023-05-23T07:19:33.246963Z"
    },
    "papermill": {
     "duration": 0.02641,
     "end_time": "2023-05-23T07:19:33.250651",
     "exception": false,
     "start_time": "2023-05-23T07:19:33.224241",
     "status": "completed"
    },
    "tags": []
   },
   "outputs": [],
   "source": [
    "def create_pipeline_nn(n_neigh, num_imputer =True, cat_imputer=True):\n",
    "    if num_imputer == True:\n",
    "        numeric_transformer = Pipeline(steps=[\n",
    "            ('imputer', KNNImputer(n_neighbors=n_neigh, weights=\"uniform\")),\n",
    "            ('Scaler', StandardScaler())])\n",
    "     \n",
    "    if cat_imputer == True:\n",
    "        categorical_transformer = Pipeline(steps=[\n",
    "            ('imputer', SimpleImputer(strategy='most_frequent')),\n",
    "            ('ohencoder', OneHotEncoder(sparse_output=False))])\n",
    "    else:\n",
    "        categorical_transformer = Pipeline(steps=[('ohencoder', OneHotEncoder(sparse_output=False))])\n",
    "        \n",
    "    preprocessor = ColumnTransformer(\n",
    "        transformers=[\n",
    "            ('num', numeric_transformer, num_cols),\n",
    "            ('cat', categorical_transformer, cat_cols)])\n",
    "    return preprocessor"
   ]
  },
  {
   "cell_type": "code",
   "execution_count": 16,
   "id": "7878385f",
   "metadata": {
    "execution": {
     "iopub.execute_input": "2023-05-23T07:19:33.282728Z",
     "iopub.status.busy": "2023-05-23T07:19:33.282326Z",
     "iopub.status.idle": "2023-05-23T07:25:45.195849Z",
     "shell.execute_reply": "2023-05-23T07:25:45.194692Z"
    },
    "papermill": {
     "duration": 371.94742,
     "end_time": "2023-05-23T07:25:45.212433",
     "exception": false,
     "start_time": "2023-05-23T07:19:33.265013",
     "status": "completed"
    },
    "tags": []
   },
   "outputs": [
    {
     "name": "stdout",
     "output_type": "stream",
     "text": [
      "average loss across 5 folds: 0.07322\n",
      "average loss across 5 folds: 0.07327\n",
      "average loss across 5 folds: 0.07314\n",
      "average loss across 5 folds: 0.07308\n",
      "average loss across 5 folds: 0.07317\n"
     ]
    }
   ],
   "source": [
    "n_neighs = [5, 10, 15,20, 30]\n",
    "for n_neigh in n_neighs:\n",
    "    preprocessor = create_pipeline_nn(n_neigh=n_neigh)\n",
    "    tmp = {'num_imputer': 'Nearest neighbors_' + str(n_neigh), 'cat_imputer' : 'most_frequent', \n",
    "           'score_5kf' : train_kfold(preprocessor)}\n",
    "    results_df = pd.concat([results_df, pd.DataFrame(tmp, index=[0])])"
   ]
  },
  {
   "cell_type": "code",
   "execution_count": 17,
   "id": "0c0f7e9b",
   "metadata": {
    "execution": {
     "iopub.execute_input": "2023-05-23T07:25:45.243573Z",
     "iopub.status.busy": "2023-05-23T07:25:45.243176Z",
     "iopub.status.idle": "2023-05-23T07:25:45.255380Z",
     "shell.execute_reply": "2023-05-23T07:25:45.254279Z"
    },
    "papermill": {
     "duration": 0.030972,
     "end_time": "2023-05-23T07:25:45.257930",
     "exception": false,
     "start_time": "2023-05-23T07:25:45.226958",
     "status": "completed"
    },
    "tags": []
   },
   "outputs": [
    {
     "data": {
      "text/html": [
       "<div>\n",
       "<style scoped>\n",
       "    .dataframe tbody tr th:only-of-type {\n",
       "        vertical-align: middle;\n",
       "    }\n",
       "\n",
       "    .dataframe tbody tr th {\n",
       "        vertical-align: top;\n",
       "    }\n",
       "\n",
       "    .dataframe thead th {\n",
       "        text-align: right;\n",
       "    }\n",
       "</style>\n",
       "<table border=\"1\" class=\"dataframe\">\n",
       "  <thead>\n",
       "    <tr style=\"text-align: right;\">\n",
       "      <th></th>\n",
       "      <th>num_imputer</th>\n",
       "      <th>cat_imputer</th>\n",
       "      <th>score_5kf</th>\n",
       "    </tr>\n",
       "  </thead>\n",
       "  <tbody>\n",
       "    <tr>\n",
       "      <th>0</th>\n",
       "      <td>None</td>\n",
       "      <td>most_frequent</td>\n",
       "      <td>0.073162</td>\n",
       "    </tr>\n",
       "    <tr>\n",
       "      <th>0</th>\n",
       "      <td>mean</td>\n",
       "      <td>most_frequent</td>\n",
       "      <td>0.073137</td>\n",
       "    </tr>\n",
       "    <tr>\n",
       "      <th>0</th>\n",
       "      <td>median</td>\n",
       "      <td>most_frequent</td>\n",
       "      <td>0.073147</td>\n",
       "    </tr>\n",
       "    <tr>\n",
       "      <th>0</th>\n",
       "      <td>most_frequent</td>\n",
       "      <td>most_frequent</td>\n",
       "      <td>0.073264</td>\n",
       "    </tr>\n",
       "    <tr>\n",
       "      <th>0</th>\n",
       "      <td>iterative</td>\n",
       "      <td>most_frequent</td>\n",
       "      <td>0.073162</td>\n",
       "    </tr>\n",
       "    <tr>\n",
       "      <th>0</th>\n",
       "      <td>Nearest neighbors_5</td>\n",
       "      <td>most_frequent</td>\n",
       "      <td>0.073216</td>\n",
       "    </tr>\n",
       "    <tr>\n",
       "      <th>0</th>\n",
       "      <td>Nearest neighbors_10</td>\n",
       "      <td>most_frequent</td>\n",
       "      <td>0.073266</td>\n",
       "    </tr>\n",
       "    <tr>\n",
       "      <th>0</th>\n",
       "      <td>Nearest neighbors_15</td>\n",
       "      <td>most_frequent</td>\n",
       "      <td>0.073136</td>\n",
       "    </tr>\n",
       "    <tr>\n",
       "      <th>0</th>\n",
       "      <td>Nearest neighbors_20</td>\n",
       "      <td>most_frequent</td>\n",
       "      <td>0.073083</td>\n",
       "    </tr>\n",
       "    <tr>\n",
       "      <th>0</th>\n",
       "      <td>Nearest neighbors_30</td>\n",
       "      <td>most_frequent</td>\n",
       "      <td>0.073175</td>\n",
       "    </tr>\n",
       "  </tbody>\n",
       "</table>\n",
       "</div>"
      ],
      "text/plain": [
       "            num_imputer    cat_imputer  score_5kf\n",
       "0                  None  most_frequent   0.073162\n",
       "0                  mean  most_frequent   0.073137\n",
       "0                median  most_frequent   0.073147\n",
       "0         most_frequent  most_frequent   0.073264\n",
       "0             iterative  most_frequent   0.073162\n",
       "0   Nearest neighbors_5  most_frequent   0.073216\n",
       "0  Nearest neighbors_10  most_frequent   0.073266\n",
       "0  Nearest neighbors_15  most_frequent   0.073136\n",
       "0  Nearest neighbors_20  most_frequent   0.073083\n",
       "0  Nearest neighbors_30  most_frequent   0.073175"
      ]
     },
     "execution_count": 17,
     "metadata": {},
     "output_type": "execute_result"
    }
   ],
   "source": [
    "results_df "
   ]
  },
  {
   "cell_type": "markdown",
   "id": "c9cc0d1e",
   "metadata": {
    "papermill": {
     "duration": 0.014698,
     "end_time": "2023-05-23T07:25:45.287763",
     "exception": false,
     "start_time": "2023-05-23T07:25:45.273065",
     "status": "completed"
    },
    "tags": []
   },
   "source": [
    "# Filling NaNs using correlated features"
   ]
  },
  {
   "cell_type": "markdown",
   "id": "cac1aa60",
   "metadata": {
    "papermill": {
     "duration": 0.014677,
     "end_time": "2023-05-23T07:25:45.317356",
     "exception": false,
     "start_time": "2023-05-23T07:25:45.302679",
     "status": "completed"
    },
    "tags": []
   },
   "source": [
    "Let's try an idea provided in this discussion [link](https://www.kaggle.com/competitions/playground-series-s3e15/discussion/411353#2267177) \n",
    "Described : \"Also, there is an easy way to fill nan values in D_e and D_h features! Since they are high-correlated features - 0.81, and, technically, they are almost the same (since there are a lot of sample where D_e value is equal to D_h value), we can just fill, for example, D_e nan value into the 'D_h' value in the current sample, and vice versa!\""
   ]
  },
  {
   "cell_type": "code",
   "execution_count": 18,
   "id": "1edbc380",
   "metadata": {
    "execution": {
     "iopub.execute_input": "2023-05-23T07:25:45.349803Z",
     "iopub.status.busy": "2023-05-23T07:25:45.349383Z",
     "iopub.status.idle": "2023-05-23T07:25:45.359677Z",
     "shell.execute_reply": "2023-05-23T07:25:45.358606Z"
    },
    "papermill": {
     "duration": 0.029583,
     "end_time": "2023-05-23T07:25:45.362434",
     "exception": false,
     "start_time": "2023-05-23T07:25:45.332851",
     "status": "completed"
    },
    "tags": []
   },
   "outputs": [],
   "source": [
    "df_train.loc[df_train['D_e [mm]'].isna(), 'D_e [mm]'] = df_train.loc[df_train['D_e [mm]'].isna(), 'D_h [mm]']\n",
    "df_train.loc[df_train['D_h [mm]'].isna(), 'D_h [mm]'] = df_train.loc[df_train['D_h [mm]'].isna(), 'D_e [mm]']"
   ]
  },
  {
   "cell_type": "code",
   "execution_count": 19,
   "id": "8f9a129e",
   "metadata": {
    "execution": {
     "iopub.execute_input": "2023-05-23T07:25:45.395022Z",
     "iopub.status.busy": "2023-05-23T07:25:45.394482Z",
     "iopub.status.idle": "2023-05-23T07:25:49.241516Z",
     "shell.execute_reply": "2023-05-23T07:25:49.240445Z"
    },
    "papermill": {
     "duration": 3.866696,
     "end_time": "2023-05-23T07:25:49.244297",
     "exception": false,
     "start_time": "2023-05-23T07:25:45.377601",
     "status": "completed"
    },
    "tags": []
   },
   "outputs": [
    {
     "name": "stdout",
     "output_type": "stream",
     "text": [
      "average loss across 5 folds: 0.07291\n"
     ]
    }
   ],
   "source": [
    "preprocessor= create_pipeline(numeric_transformer=None\n",
    "                             )\n",
    "tmp = {'num_imputer': 'None', 'cat_imputer' : 'most_frequent', \n",
    "       'score_5kf' : train_kfold(preprocessor)}\n",
    "results_df = pd.concat([results_df, pd.DataFrame(tmp, index=[1])])"
   ]
  },
  {
   "cell_type": "markdown",
   "id": "15cc77ed",
   "metadata": {
    "papermill": {
     "duration": 0.014794,
     "end_time": "2023-05-23T07:25:49.274588",
     "exception": false,
     "start_time": "2023-05-23T07:25:49.259794",
     "status": "completed"
    },
    "tags": []
   },
   "source": [
    "Even without imputation on other columns, it performs much better than any other methods used before!"
   ]
  },
  {
   "cell_type": "markdown",
   "id": "f1f6665f",
   "metadata": {
    "papermill": {
     "duration": 0.014676,
     "end_time": "2023-05-23T07:25:49.304341",
     "exception": false,
     "start_time": "2023-05-23T07:25:49.289665",
     "status": "completed"
    },
    "tags": []
   },
   "source": [
    "Let's combine this with best working filling method, which is Nearest neighbors using n_neigh=20"
   ]
  },
  {
   "cell_type": "code",
   "execution_count": 20,
   "id": "7a24cf9a",
   "metadata": {
    "execution": {
     "iopub.execute_input": "2023-05-23T07:25:49.336540Z",
     "iopub.status.busy": "2023-05-23T07:25:49.336160Z",
     "iopub.status.idle": "2023-05-23T07:26:40.904760Z",
     "shell.execute_reply": "2023-05-23T07:26:40.903364Z"
    },
    "papermill": {
     "duration": 51.602888,
     "end_time": "2023-05-23T07:26:40.922329",
     "exception": false,
     "start_time": "2023-05-23T07:25:49.319441",
     "status": "completed"
    },
    "tags": []
   },
   "outputs": [
    {
     "name": "stdout",
     "output_type": "stream",
     "text": [
      "average loss across 5 folds: 0.07279\n"
     ]
    }
   ],
   "source": [
    "n_neigh = 20 \n",
    "preprocessor = create_pipeline_nn(n_neigh = n_neigh)\n",
    "tmp = {'num_imputer': 'Nearest neighbors_' + str(n_neigh), 'cat_imputer' : 'most_frequent', \n",
    "       'score_5kf' : train_kfold(preprocessor)}\n",
    "results_df = pd.concat([results_df, pd.DataFrame(tmp, index=[1])])"
   ]
  },
  {
   "cell_type": "code",
   "execution_count": 21,
   "id": "ca1cf67a",
   "metadata": {
    "execution": {
     "iopub.execute_input": "2023-05-23T07:26:40.955715Z",
     "iopub.status.busy": "2023-05-23T07:26:40.955303Z",
     "iopub.status.idle": "2023-05-23T07:26:40.967583Z",
     "shell.execute_reply": "2023-05-23T07:26:40.966383Z"
    },
    "papermill": {
     "duration": 0.032031,
     "end_time": "2023-05-23T07:26:40.969912",
     "exception": false,
     "start_time": "2023-05-23T07:26:40.937881",
     "status": "completed"
    },
    "tags": []
   },
   "outputs": [
    {
     "data": {
      "text/html": [
       "<div>\n",
       "<style scoped>\n",
       "    .dataframe tbody tr th:only-of-type {\n",
       "        vertical-align: middle;\n",
       "    }\n",
       "\n",
       "    .dataframe tbody tr th {\n",
       "        vertical-align: top;\n",
       "    }\n",
       "\n",
       "    .dataframe thead th {\n",
       "        text-align: right;\n",
       "    }\n",
       "</style>\n",
       "<table border=\"1\" class=\"dataframe\">\n",
       "  <thead>\n",
       "    <tr style=\"text-align: right;\">\n",
       "      <th></th>\n",
       "      <th>num_imputer</th>\n",
       "      <th>cat_imputer</th>\n",
       "      <th>score_5kf</th>\n",
       "    </tr>\n",
       "  </thead>\n",
       "  <tbody>\n",
       "    <tr>\n",
       "      <th>0</th>\n",
       "      <td>None</td>\n",
       "      <td>most_frequent</td>\n",
       "      <td>0.073162</td>\n",
       "    </tr>\n",
       "    <tr>\n",
       "      <th>0</th>\n",
       "      <td>mean</td>\n",
       "      <td>most_frequent</td>\n",
       "      <td>0.073137</td>\n",
       "    </tr>\n",
       "    <tr>\n",
       "      <th>0</th>\n",
       "      <td>median</td>\n",
       "      <td>most_frequent</td>\n",
       "      <td>0.073147</td>\n",
       "    </tr>\n",
       "    <tr>\n",
       "      <th>0</th>\n",
       "      <td>most_frequent</td>\n",
       "      <td>most_frequent</td>\n",
       "      <td>0.073264</td>\n",
       "    </tr>\n",
       "    <tr>\n",
       "      <th>0</th>\n",
       "      <td>iterative</td>\n",
       "      <td>most_frequent</td>\n",
       "      <td>0.073162</td>\n",
       "    </tr>\n",
       "    <tr>\n",
       "      <th>0</th>\n",
       "      <td>Nearest neighbors_5</td>\n",
       "      <td>most_frequent</td>\n",
       "      <td>0.073216</td>\n",
       "    </tr>\n",
       "    <tr>\n",
       "      <th>0</th>\n",
       "      <td>Nearest neighbors_10</td>\n",
       "      <td>most_frequent</td>\n",
       "      <td>0.073266</td>\n",
       "    </tr>\n",
       "    <tr>\n",
       "      <th>0</th>\n",
       "      <td>Nearest neighbors_15</td>\n",
       "      <td>most_frequent</td>\n",
       "      <td>0.073136</td>\n",
       "    </tr>\n",
       "    <tr>\n",
       "      <th>0</th>\n",
       "      <td>Nearest neighbors_20</td>\n",
       "      <td>most_frequent</td>\n",
       "      <td>0.073083</td>\n",
       "    </tr>\n",
       "    <tr>\n",
       "      <th>0</th>\n",
       "      <td>Nearest neighbors_30</td>\n",
       "      <td>most_frequent</td>\n",
       "      <td>0.073175</td>\n",
       "    </tr>\n",
       "    <tr>\n",
       "      <th>1</th>\n",
       "      <td>None</td>\n",
       "      <td>most_frequent</td>\n",
       "      <td>0.072912</td>\n",
       "    </tr>\n",
       "    <tr>\n",
       "      <th>1</th>\n",
       "      <td>Nearest neighbors_20</td>\n",
       "      <td>most_frequent</td>\n",
       "      <td>0.072787</td>\n",
       "    </tr>\n",
       "  </tbody>\n",
       "</table>\n",
       "</div>"
      ],
      "text/plain": [
       "            num_imputer    cat_imputer  score_5kf\n",
       "0                  None  most_frequent   0.073162\n",
       "0                  mean  most_frequent   0.073137\n",
       "0                median  most_frequent   0.073147\n",
       "0         most_frequent  most_frequent   0.073264\n",
       "0             iterative  most_frequent   0.073162\n",
       "0   Nearest neighbors_5  most_frequent   0.073216\n",
       "0  Nearest neighbors_10  most_frequent   0.073266\n",
       "0  Nearest neighbors_15  most_frequent   0.073136\n",
       "0  Nearest neighbors_20  most_frequent   0.073083\n",
       "0  Nearest neighbors_30  most_frequent   0.073175\n",
       "1                  None  most_frequent   0.072912\n",
       "1  Nearest neighbors_20  most_frequent   0.072787"
      ]
     },
     "execution_count": 21,
     "metadata": {},
     "output_type": "execute_result"
    }
   ],
   "source": [
    "results_df"
   ]
  },
  {
   "cell_type": "markdown",
   "id": "faabb435",
   "metadata": {
    "papermill": {
     "duration": 0.015244,
     "end_time": "2023-05-23T07:26:41.000654",
     "exception": false,
     "start_time": "2023-05-23T07:26:40.985410",
     "status": "completed"
    },
    "tags": []
   },
   "source": []
  },
  {
   "cell_type": "markdown",
   "id": "0572f901",
   "metadata": {
    "papermill": {
     "duration": 0.015564,
     "end_time": "2023-05-23T07:26:41.031765",
     "exception": false,
     "start_time": "2023-05-23T07:26:41.016201",
     "status": "completed"
    },
    "tags": []
   },
   "source": [
    "# Filling NaNs using Regressor"
   ]
  },
  {
   "cell_type": "markdown",
   "id": "e4022af7",
   "metadata": {
    "papermill": {
     "duration": 0.015217,
     "end_time": "2023-05-23T07:26:41.062466",
     "exception": false,
     "start_time": "2023-05-23T07:26:41.047249",
     "status": "completed"
    },
    "tags": []
   },
   "source": [
    "Code implementation based on [link](https://www.kaggle.com/competitions/playground-series-s3e15/discussion/410645)"
   ]
  },
  {
   "cell_type": "code",
   "execution_count": 22,
   "id": "cfb2db02",
   "metadata": {
    "execution": {
     "iopub.execute_input": "2023-05-23T07:26:41.095990Z",
     "iopub.status.busy": "2023-05-23T07:26:41.095239Z",
     "iopub.status.idle": "2023-05-23T07:26:41.104853Z",
     "shell.execute_reply": "2023-05-23T07:26:41.103813Z"
    },
    "papermill": {
     "duration": 0.029562,
     "end_time": "2023-05-23T07:26:41.107561",
     "exception": false,
     "start_time": "2023-05-23T07:26:41.077999",
     "status": "completed"
    },
    "tags": []
   },
   "outputs": [],
   "source": [
    "#filling missin values filled in a section above\n",
    "df_train = df[~df['x_e_out [-]'].isna()]\n",
    "y = df_train['x_e_out [-]']\n",
    "\n",
    "df_train = df_train.drop(columns=['x_e_out [-]', 'id'])"
   ]
  },
  {
   "cell_type": "code",
   "execution_count": 23,
   "id": "202f2755",
   "metadata": {
    "execution": {
     "iopub.execute_input": "2023-05-23T07:26:41.142250Z",
     "iopub.status.busy": "2023-05-23T07:26:41.141621Z",
     "iopub.status.idle": "2023-05-23T07:26:44.453415Z",
     "shell.execute_reply": "2023-05-23T07:26:44.452540Z"
    },
    "papermill": {
     "duration": 3.332517,
     "end_time": "2023-05-23T07:26:44.455924",
     "exception": false,
     "start_time": "2023-05-23T07:26:41.123407",
     "status": "completed"
    },
    "tags": []
   },
   "outputs": [],
   "source": [
    "for col in num_cols:\n",
    "    train_data = df_train[df_train[col].notna()]\n",
    "    test_data = df_train[df_train[col].isna()]\n",
    "    if len(test_data) > 0:\n",
    "        X_train = train_data[num_cols].drop(columns=col)\n",
    "        y_train = train_data[col]\n",
    "        model = lgm.LGBMRegressor()\n",
    "        model.fit(np.array(X_train), np.array(y_train))\n",
    "\n",
    "        X_test = test_data[num_cols].drop(columns=col)\n",
    "        y_pred = model.predict(X_test)\n",
    "\n",
    "        df_train.loc[df_train[col].isna(), col] = y_pred"
   ]
  },
  {
   "cell_type": "code",
   "execution_count": 24,
   "id": "7522a488",
   "metadata": {
    "execution": {
     "iopub.execute_input": "2023-05-23T07:26:44.490516Z",
     "iopub.status.busy": "2023-05-23T07:26:44.489821Z",
     "iopub.status.idle": "2023-05-23T07:26:48.551488Z",
     "shell.execute_reply": "2023-05-23T07:26:48.549963Z"
    },
    "papermill": {
     "duration": 4.082218,
     "end_time": "2023-05-23T07:26:48.554256",
     "exception": false,
     "start_time": "2023-05-23T07:26:44.472038",
     "status": "completed"
    },
    "tags": []
   },
   "outputs": [
    {
     "name": "stdout",
     "output_type": "stream",
     "text": [
      "average loss across 5 folds: 0.07280\n"
     ]
    }
   ],
   "source": [
    "preprocessor= create_pipeline(numeric_transformer=None)\n",
    "tmp = {'num_imputer': 'None', 'cat_imputer' : 'most_frequent', \n",
    "       'score_5kf' : train_kfold(preprocessor)}\n",
    "results_df = pd.concat([results_df, pd.DataFrame(tmp, index=[2])])"
   ]
  },
  {
   "cell_type": "code",
   "execution_count": 25,
   "id": "7c6ae57e",
   "metadata": {
    "execution": {
     "iopub.execute_input": "2023-05-23T07:26:48.587462Z",
     "iopub.status.busy": "2023-05-23T07:26:48.587079Z",
     "iopub.status.idle": "2023-05-23T07:26:48.600001Z",
     "shell.execute_reply": "2023-05-23T07:26:48.598764Z"
    },
    "papermill": {
     "duration": 0.032834,
     "end_time": "2023-05-23T07:26:48.602785",
     "exception": false,
     "start_time": "2023-05-23T07:26:48.569951",
     "status": "completed"
    },
    "tags": []
   },
   "outputs": [
    {
     "data": {
      "text/html": [
       "<div>\n",
       "<style scoped>\n",
       "    .dataframe tbody tr th:only-of-type {\n",
       "        vertical-align: middle;\n",
       "    }\n",
       "\n",
       "    .dataframe tbody tr th {\n",
       "        vertical-align: top;\n",
       "    }\n",
       "\n",
       "    .dataframe thead th {\n",
       "        text-align: right;\n",
       "    }\n",
       "</style>\n",
       "<table border=\"1\" class=\"dataframe\">\n",
       "  <thead>\n",
       "    <tr style=\"text-align: right;\">\n",
       "      <th></th>\n",
       "      <th>num_imputer</th>\n",
       "      <th>cat_imputer</th>\n",
       "      <th>score_5kf</th>\n",
       "    </tr>\n",
       "  </thead>\n",
       "  <tbody>\n",
       "    <tr>\n",
       "      <th>0</th>\n",
       "      <td>None</td>\n",
       "      <td>most_frequent</td>\n",
       "      <td>0.073162</td>\n",
       "    </tr>\n",
       "    <tr>\n",
       "      <th>0</th>\n",
       "      <td>mean</td>\n",
       "      <td>most_frequent</td>\n",
       "      <td>0.073137</td>\n",
       "    </tr>\n",
       "    <tr>\n",
       "      <th>0</th>\n",
       "      <td>median</td>\n",
       "      <td>most_frequent</td>\n",
       "      <td>0.073147</td>\n",
       "    </tr>\n",
       "    <tr>\n",
       "      <th>0</th>\n",
       "      <td>most_frequent</td>\n",
       "      <td>most_frequent</td>\n",
       "      <td>0.073264</td>\n",
       "    </tr>\n",
       "    <tr>\n",
       "      <th>0</th>\n",
       "      <td>iterative</td>\n",
       "      <td>most_frequent</td>\n",
       "      <td>0.073162</td>\n",
       "    </tr>\n",
       "    <tr>\n",
       "      <th>0</th>\n",
       "      <td>Nearest neighbors_5</td>\n",
       "      <td>most_frequent</td>\n",
       "      <td>0.073216</td>\n",
       "    </tr>\n",
       "    <tr>\n",
       "      <th>0</th>\n",
       "      <td>Nearest neighbors_10</td>\n",
       "      <td>most_frequent</td>\n",
       "      <td>0.073266</td>\n",
       "    </tr>\n",
       "    <tr>\n",
       "      <th>0</th>\n",
       "      <td>Nearest neighbors_15</td>\n",
       "      <td>most_frequent</td>\n",
       "      <td>0.073136</td>\n",
       "    </tr>\n",
       "    <tr>\n",
       "      <th>0</th>\n",
       "      <td>Nearest neighbors_20</td>\n",
       "      <td>most_frequent</td>\n",
       "      <td>0.073083</td>\n",
       "    </tr>\n",
       "    <tr>\n",
       "      <th>0</th>\n",
       "      <td>Nearest neighbors_30</td>\n",
       "      <td>most_frequent</td>\n",
       "      <td>0.073175</td>\n",
       "    </tr>\n",
       "    <tr>\n",
       "      <th>1</th>\n",
       "      <td>None</td>\n",
       "      <td>most_frequent</td>\n",
       "      <td>0.072912</td>\n",
       "    </tr>\n",
       "    <tr>\n",
       "      <th>1</th>\n",
       "      <td>Nearest neighbors_20</td>\n",
       "      <td>most_frequent</td>\n",
       "      <td>0.072787</td>\n",
       "    </tr>\n",
       "    <tr>\n",
       "      <th>2</th>\n",
       "      <td>None</td>\n",
       "      <td>most_frequent</td>\n",
       "      <td>0.072802</td>\n",
       "    </tr>\n",
       "  </tbody>\n",
       "</table>\n",
       "</div>"
      ],
      "text/plain": [
       "            num_imputer    cat_imputer  score_5kf\n",
       "0                  None  most_frequent   0.073162\n",
       "0                  mean  most_frequent   0.073137\n",
       "0                median  most_frequent   0.073147\n",
       "0         most_frequent  most_frequent   0.073264\n",
       "0             iterative  most_frequent   0.073162\n",
       "0   Nearest neighbors_5  most_frequent   0.073216\n",
       "0  Nearest neighbors_10  most_frequent   0.073266\n",
       "0  Nearest neighbors_15  most_frequent   0.073136\n",
       "0  Nearest neighbors_20  most_frequent   0.073083\n",
       "0  Nearest neighbors_30  most_frequent   0.073175\n",
       "1                  None  most_frequent   0.072912\n",
       "1  Nearest neighbors_20  most_frequent   0.072787\n",
       "2                  None  most_frequent   0.072802"
      ]
     },
     "execution_count": 25,
     "metadata": {},
     "output_type": "execute_result"
    }
   ],
   "source": [
    "results_df"
   ]
  },
  {
   "cell_type": "markdown",
   "id": "4d024b84",
   "metadata": {
    "papermill": {
     "duration": 0.015597,
     "end_time": "2023-05-23T07:26:48.634499",
     "exception": false,
     "start_time": "2023-05-23T07:26:48.618902",
     "status": "completed"
    },
    "tags": []
   },
   "source": [
    "* it looks like filling missing values with some regressor works the best for local cv.\n",
    "* preprocessing with or without 'most_frequent' as a categorical imputer returns very simillar results\n",
    "* it looks like Nearest neighbors imputation works the best from standard imputation techniques(filling with _, iterativeimputer).\n",
    "index value:\n",
    "\n",
    "0. No NaNs were filled before imputation.\n",
    "1. Partialy filled.\n",
    "2. Allmost all filled (in this case, all numeric cols)."
   ]
  },
  {
   "cell_type": "markdown",
   "id": "9ca971e2",
   "metadata": {
    "papermill": {
     "duration": 0.015826,
     "end_time": "2023-05-23T07:26:48.666266",
     "exception": false,
     "start_time": "2023-05-23T07:26:48.650440",
     "status": "completed"
    },
    "tags": []
   },
   "source": [
    "# Subsmissin without params tunning"
   ]
  },
  {
   "cell_type": "code",
   "execution_count": 26,
   "id": "09342e2f",
   "metadata": {
    "execution": {
     "iopub.execute_input": "2023-05-23T07:26:48.701730Z",
     "iopub.status.busy": "2023-05-23T07:26:48.701357Z",
     "iopub.status.idle": "2023-05-23T07:27:30.518368Z",
     "shell.execute_reply": "2023-05-23T07:27:30.517098Z"
    },
    "papermill": {
     "duration": 41.838,
     "end_time": "2023-05-23T07:27:30.521388",
     "exception": false,
     "start_time": "2023-05-23T07:26:48.683388",
     "status": "completed"
    },
    "tags": []
   },
   "outputs": [],
   "source": [
    "preds = np.zeros(len(df_test))\n",
    "kf = KFold(n_splits=5,shuffle=True, random_state=123)\n",
    "for fold, (train_idx, val_idx) in enumerate(kf.split(df_train, y)):\n",
    "    X_train, y_train = df_train.iloc[train_idx], y.iloc[train_idx]\n",
    "    X_val, y_val = df_train.iloc[val_idx], y.iloc[val_idx]\n",
    "    \n",
    "    preprocessor = create_pipeline_nn(n_neigh = 20)\n",
    "    model = lgm.LGBMRegressor()\n",
    "    clf = Pipeline(steps=[('preprocessor', preprocessor),\n",
    "                          ('classifier', model)])\n",
    "    clf.fit(X_train, y_train)\n",
    "    predictions = clf.predict(df_test)\n",
    "    preds += ((predictions) / 5)"
   ]
  },
  {
   "cell_type": "code",
   "execution_count": 27,
   "id": "918e5f3a",
   "metadata": {
    "execution": {
     "iopub.execute_input": "2023-05-23T07:27:30.555581Z",
     "iopub.status.busy": "2023-05-23T07:27:30.555179Z",
     "iopub.status.idle": "2023-05-23T07:27:30.615289Z",
     "shell.execute_reply": "2023-05-23T07:27:30.614065Z"
    },
    "papermill": {
     "duration": 0.080362,
     "end_time": "2023-05-23T07:27:30.617926",
     "exception": false,
     "start_time": "2023-05-23T07:27:30.537564",
     "status": "completed"
    },
    "tags": []
   },
   "outputs": [
    {
     "data": {
      "text/html": [
       "<div>\n",
       "<style scoped>\n",
       "    .dataframe tbody tr th:only-of-type {\n",
       "        vertical-align: middle;\n",
       "    }\n",
       "\n",
       "    .dataframe tbody tr th {\n",
       "        vertical-align: top;\n",
       "    }\n",
       "\n",
       "    .dataframe thead th {\n",
       "        text-align: right;\n",
       "    }\n",
       "</style>\n",
       "<table border=\"1\" class=\"dataframe\">\n",
       "  <thead>\n",
       "    <tr style=\"text-align: right;\">\n",
       "      <th></th>\n",
       "      <th>id</th>\n",
       "      <th>x_e_out [-]</th>\n",
       "    </tr>\n",
       "  </thead>\n",
       "  <tbody>\n",
       "    <tr>\n",
       "      <th>0</th>\n",
       "      <td>4</td>\n",
       "      <td>0.002371</td>\n",
       "    </tr>\n",
       "    <tr>\n",
       "      <th>1</th>\n",
       "      <td>7</td>\n",
       "      <td>-0.092375</td>\n",
       "    </tr>\n",
       "    <tr>\n",
       "      <th>2</th>\n",
       "      <td>10</td>\n",
       "      <td>-0.044921</td>\n",
       "    </tr>\n",
       "    <tr>\n",
       "      <th>3</th>\n",
       "      <td>12</td>\n",
       "      <td>-0.037171</td>\n",
       "    </tr>\n",
       "    <tr>\n",
       "      <th>4</th>\n",
       "      <td>23</td>\n",
       "      <td>0.040613</td>\n",
       "    </tr>\n",
       "  </tbody>\n",
       "</table>\n",
       "</div>"
      ],
      "text/plain": [
       "   id  x_e_out [-]\n",
       "0   4     0.002371\n",
       "1   7    -0.092375\n",
       "2  10    -0.044921\n",
       "3  12    -0.037171\n",
       "4  23     0.040613"
      ]
     },
     "execution_count": 27,
     "metadata": {},
     "output_type": "execute_result"
    }
   ],
   "source": [
    "df_sub['x_e_out [-]'] = preds\n",
    "df_sub.to_csv('submission.csv', index=False)\n",
    "df_sub.head()"
   ]
  },
  {
   "cell_type": "markdown",
   "id": "51c664c1",
   "metadata": {
    "papermill": {
     "duration": 0.016026,
     "end_time": "2023-05-23T07:27:30.650374",
     "exception": false,
     "start_time": "2023-05-23T07:27:30.634348",
     "status": "completed"
    },
    "tags": []
   },
   "source": [
    "* submission score using best preproccesing method: : **0.075667**\n",
    "* submission withour preprocessing method: 0.076528"
   ]
  },
  {
   "cell_type": "code",
   "execution_count": null,
   "id": "b1f61bf5",
   "metadata": {
    "papermill": {
     "duration": 0.015835,
     "end_time": "2023-05-23T07:27:30.682390",
     "exception": false,
     "start_time": "2023-05-23T07:27:30.666555",
     "status": "completed"
    },
    "tags": []
   },
   "outputs": [],
   "source": []
  }
 ],
 "metadata": {
  "kernelspec": {
   "display_name": "Python 3",
   "language": "python",
   "name": "python3"
  },
  "language_info": {
   "codemirror_mode": {
    "name": "ipython",
    "version": 3
   },
   "file_extension": ".py",
   "mimetype": "text/x-python",
   "name": "python",
   "nbconvert_exporter": "python",
   "pygments_lexer": "ipython3",
   "version": "3.10.10"
  },
  "papermill": {
   "default_parameters": {},
   "duration": 513.316164,
   "end_time": "2023-05-23T07:27:31.924516",
   "environment_variables": {},
   "exception": null,
   "input_path": "__notebook__.ipynb",
   "output_path": "__notebook__.ipynb",
   "parameters": {},
   "start_time": "2023-05-23T07:18:58.608352",
   "version": "2.4.0"
  }
 },
 "nbformat": 4,
 "nbformat_minor": 5
}
