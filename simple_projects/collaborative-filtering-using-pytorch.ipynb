{
 "cells": [
  {
   "cell_type": "code",
   "execution_count": 1,
   "id": "f71b1459",
   "metadata": {
    "_cell_guid": "b1076dfc-b9ad-4769-8c92-a6c4dae69d19",
    "_uuid": "8f2839f25d086af736a60e9eeb907d3b93b6e0e5",
    "execution": {
     "iopub.execute_input": "2023-04-22T06:50:04.629067Z",
     "iopub.status.busy": "2023-04-22T06:50:04.628564Z",
     "iopub.status.idle": "2023-04-22T06:50:08.581338Z",
     "shell.execute_reply": "2023-04-22T06:50:08.579688Z"
    },
    "papermill": {
     "duration": 3.966858,
     "end_time": "2023-04-22T06:50:08.585331",
     "exception": false,
     "start_time": "2023-04-22T06:50:04.618473",
     "status": "completed"
    },
    "tags": []
   },
   "outputs": [],
   "source": [
    "import torch\n",
    "import torch.nn as nn\n",
    "import numpy as np \n",
    "import pandas as pd \n",
    "import os\n",
    "import tqdm\n",
    "from sklearn.metrics.pairwise import cosine_similarity\n",
    "import matplotlib.pyplot as plt\n",
    "import seaborn as sns\n",
    "from matplotlib import rcParams\n",
    "from tqdm import tqdm"
   ]
  },
  {
   "cell_type": "code",
   "execution_count": 2,
   "id": "8ccdfbd5",
   "metadata": {
    "execution": {
     "iopub.execute_input": "2023-04-22T06:50:08.601790Z",
     "iopub.status.busy": "2023-04-22T06:50:08.601153Z",
     "iopub.status.idle": "2023-04-22T06:50:08.727040Z",
     "shell.execute_reply": "2023-04-22T06:50:08.725787Z"
    },
    "papermill": {
     "duration": 0.13775,
     "end_time": "2023-04-22T06:50:08.730466",
     "exception": false,
     "start_time": "2023-04-22T06:50:08.592716",
     "status": "completed"
    },
    "tags": []
   },
   "outputs": [],
   "source": [
    "movies  = pd.read_csv('/kaggle/input/movierecommenderdataset/movies.csv')\n",
    "ratings  = pd.read_csv('/kaggle/input/movierecommenderdataset/ratings.csv')\n",
    "\n",
    "ratings_origin = ratings"
   ]
  },
  {
   "cell_type": "code",
   "execution_count": 3,
   "id": "37dbad4f",
   "metadata": {
    "execution": {
     "iopub.execute_input": "2023-04-22T06:50:08.746627Z",
     "iopub.status.busy": "2023-04-22T06:50:08.745746Z",
     "iopub.status.idle": "2023-04-22T06:50:08.779196Z",
     "shell.execute_reply": "2023-04-22T06:50:08.777556Z"
    },
    "papermill": {
     "duration": 0.04706,
     "end_time": "2023-04-22T06:50:08.784258",
     "exception": false,
     "start_time": "2023-04-22T06:50:08.737198",
     "status": "completed"
    },
    "tags": []
   },
   "outputs": [
    {
     "data": {
      "text/html": [
       "<div>\n",
       "<style scoped>\n",
       "    .dataframe tbody tr th:only-of-type {\n",
       "        vertical-align: middle;\n",
       "    }\n",
       "\n",
       "    .dataframe tbody tr th {\n",
       "        vertical-align: top;\n",
       "    }\n",
       "\n",
       "    .dataframe thead th {\n",
       "        text-align: right;\n",
       "    }\n",
       "</style>\n",
       "<table border=\"1\" class=\"dataframe\">\n",
       "  <thead>\n",
       "    <tr style=\"text-align: right;\">\n",
       "      <th></th>\n",
       "      <th>movieId</th>\n",
       "      <th>title</th>\n",
       "      <th>genres</th>\n",
       "    </tr>\n",
       "  </thead>\n",
       "  <tbody>\n",
       "    <tr>\n",
       "      <th>0</th>\n",
       "      <td>1</td>\n",
       "      <td>Toy Story (1995)</td>\n",
       "      <td>Adventure|Animation|Children|Comedy|Fantasy</td>\n",
       "    </tr>\n",
       "    <tr>\n",
       "      <th>1</th>\n",
       "      <td>2</td>\n",
       "      <td>Jumanji (1995)</td>\n",
       "      <td>Adventure|Children|Fantasy</td>\n",
       "    </tr>\n",
       "    <tr>\n",
       "      <th>2</th>\n",
       "      <td>3</td>\n",
       "      <td>Grumpier Old Men (1995)</td>\n",
       "      <td>Comedy|Romance</td>\n",
       "    </tr>\n",
       "    <tr>\n",
       "      <th>3</th>\n",
       "      <td>4</td>\n",
       "      <td>Waiting to Exhale (1995)</td>\n",
       "      <td>Comedy|Drama|Romance</td>\n",
       "    </tr>\n",
       "    <tr>\n",
       "      <th>4</th>\n",
       "      <td>5</td>\n",
       "      <td>Father of the Bride Part II (1995)</td>\n",
       "      <td>Comedy</td>\n",
       "    </tr>\n",
       "    <tr>\n",
       "      <th>...</th>\n",
       "      <td>...</td>\n",
       "      <td>...</td>\n",
       "      <td>...</td>\n",
       "    </tr>\n",
       "    <tr>\n",
       "      <th>9737</th>\n",
       "      <td>193581</td>\n",
       "      <td>Black Butler: Book of the Atlantic (2017)</td>\n",
       "      <td>Action|Animation|Comedy|Fantasy</td>\n",
       "    </tr>\n",
       "    <tr>\n",
       "      <th>9738</th>\n",
       "      <td>193583</td>\n",
       "      <td>No Game No Life: Zero (2017)</td>\n",
       "      <td>Animation|Comedy|Fantasy</td>\n",
       "    </tr>\n",
       "    <tr>\n",
       "      <th>9739</th>\n",
       "      <td>193585</td>\n",
       "      <td>Flint (2017)</td>\n",
       "      <td>Drama</td>\n",
       "    </tr>\n",
       "    <tr>\n",
       "      <th>9740</th>\n",
       "      <td>193587</td>\n",
       "      <td>Bungo Stray Dogs: Dead Apple (2018)</td>\n",
       "      <td>Action|Animation</td>\n",
       "    </tr>\n",
       "    <tr>\n",
       "      <th>9741</th>\n",
       "      <td>193609</td>\n",
       "      <td>Andrew Dice Clay: Dice Rules (1991)</td>\n",
       "      <td>Comedy</td>\n",
       "    </tr>\n",
       "  </tbody>\n",
       "</table>\n",
       "<p>9742 rows × 3 columns</p>\n",
       "</div>"
      ],
      "text/plain": [
       "      movieId                                      title  \\\n",
       "0           1                           Toy Story (1995)   \n",
       "1           2                             Jumanji (1995)   \n",
       "2           3                    Grumpier Old Men (1995)   \n",
       "3           4                   Waiting to Exhale (1995)   \n",
       "4           5         Father of the Bride Part II (1995)   \n",
       "...       ...                                        ...   \n",
       "9737   193581  Black Butler: Book of the Atlantic (2017)   \n",
       "9738   193583               No Game No Life: Zero (2017)   \n",
       "9739   193585                               Flint (2017)   \n",
       "9740   193587        Bungo Stray Dogs: Dead Apple (2018)   \n",
       "9741   193609        Andrew Dice Clay: Dice Rules (1991)   \n",
       "\n",
       "                                           genres  \n",
       "0     Adventure|Animation|Children|Comedy|Fantasy  \n",
       "1                      Adventure|Children|Fantasy  \n",
       "2                                  Comedy|Romance  \n",
       "3                            Comedy|Drama|Romance  \n",
       "4                                          Comedy  \n",
       "...                                           ...  \n",
       "9737              Action|Animation|Comedy|Fantasy  \n",
       "9738                     Animation|Comedy|Fantasy  \n",
       "9739                                        Drama  \n",
       "9740                             Action|Animation  \n",
       "9741                                       Comedy  \n",
       "\n",
       "[9742 rows x 3 columns]"
      ]
     },
     "execution_count": 3,
     "metadata": {},
     "output_type": "execute_result"
    }
   ],
   "source": [
    "movies"
   ]
  },
  {
   "cell_type": "markdown",
   "id": "cc58760e",
   "metadata": {
    "papermill": {
     "duration": 0.006388,
     "end_time": "2023-04-22T06:50:08.798052",
     "exception": false,
     "start_time": "2023-04-22T06:50:08.791664",
     "status": "completed"
    },
    "tags": []
   },
   "source": [
    "Splitting data into smaller chunks containg only top x most active users and x most watched movies. Movie indexes where not consistent with their IDs (for 9742 uniqe movies the highest id is 193609), so to make it easier to use Embeddings Layers it's better to make them in range 0 to number of unique movies in dataset. Shrinking data to lower number of unique users/movies create this problem as well. \n",
    "Code below creates dictionaries holding information about previousID : newID.\n"
   ]
  },
  {
   "cell_type": "code",
   "execution_count": 4,
   "id": "003a06f9",
   "metadata": {
    "execution": {
     "iopub.execute_input": "2023-04-22T06:50:08.815357Z",
     "iopub.status.busy": "2023-04-22T06:50:08.814262Z",
     "iopub.status.idle": "2023-04-22T06:50:08.825037Z",
     "shell.execute_reply": "2023-04-22T06:50:08.823962Z"
    },
    "papermill": {
     "duration": 0.022878,
     "end_time": "2023-04-22T06:50:08.828068",
     "exception": false,
     "start_time": "2023-04-22T06:50:08.805190",
     "status": "completed"
    },
    "tags": []
   },
   "outputs": [],
   "source": [
    "def get_top_data(ratings_origin, user_size, movie_size):\n",
    "\n",
    "    top_users = ratings_origin.userId.value_counts()[:user_size].index\n",
    "    ratings_origin = ratings_origin.loc[ratings_origin['userId'].isin(top_users)]\n",
    "\n",
    "    top_movies = ratings_origin.movieId.value_counts()[:movie_size].index\n",
    "    ratings_origin = ratings_origin.loc[ratings_origin['movieId'].isin(top_movies)]\n",
    "\n",
    "    tmp_movieIds = ratings_origin.movieId.unique()\n",
    "    movie_set = {}\n",
    "    user_set = {}\n",
    "    for count, movie in enumerate(tmp_movieIds):\n",
    "        movie_set[movie] = count \n",
    "\n",
    "    tmp_userIds = ratings_origin.userId.unique()\n",
    "    for count, user in enumerate(tmp_userIds):\n",
    "        user_set[user] = count \n",
    "    \n",
    "    inv_movie_set = {v:k for k, v in movie_set.items()}\n",
    "    inv_user_set = {v:k for k, v in user_set.items()}\n",
    "\n",
    "    ratings_origin['movieId'] =  ratings_origin['movieId'].map(movie_set)\n",
    "    ratings_origin['userId'] =  ratings_origin['userId'].map(user_set)\n",
    "    \n",
    "    return ratings_origin, movie_set, user_set, inv_movie_set, inv_user_set"
   ]
  },
  {
   "cell_type": "code",
   "execution_count": 5,
   "id": "e47eea61",
   "metadata": {
    "execution": {
     "iopub.execute_input": "2023-04-22T06:50:08.844426Z",
     "iopub.status.busy": "2023-04-22T06:50:08.843549Z",
     "iopub.status.idle": "2023-04-22T06:50:08.875905Z",
     "shell.execute_reply": "2023-04-22T06:50:08.874342Z"
    },
    "papermill": {
     "duration": 0.044761,
     "end_time": "2023-04-22T06:50:08.879555",
     "exception": false,
     "start_time": "2023-04-22T06:50:08.834794",
     "status": "completed"
    },
    "tags": []
   },
   "outputs": [],
   "source": [
    "ratings_top, movie_set, user_set, inv_movie_set, inv_user_set=  get_top_data(ratings_origin, 50, 50)"
   ]
  },
  {
   "cell_type": "code",
   "execution_count": 6,
   "id": "8b608434",
   "metadata": {
    "execution": {
     "iopub.execute_input": "2023-04-22T06:50:08.897146Z",
     "iopub.status.busy": "2023-04-22T06:50:08.896335Z",
     "iopub.status.idle": "2023-04-22T06:50:08.905315Z",
     "shell.execute_reply": "2023-04-22T06:50:08.904068Z"
    },
    "papermill": {
     "duration": 0.021531,
     "end_time": "2023-04-22T06:50:08.908145",
     "exception": false,
     "start_time": "2023-04-22T06:50:08.886614",
     "status": "completed"
    },
    "tags": []
   },
   "outputs": [],
   "source": [
    "class cf_dataset:\n",
    "    def __init__(self, df):\n",
    "        self.df = df\n",
    "        \n",
    "    def __len__(self):\n",
    "        return len(self.df)\n",
    "    \n",
    "    def __getitem__(self, x):\n",
    "        user_id =  self.df.iloc[x][['userId']].values[0]\n",
    "        movie_id = self.df.iloc[x][['movieId']].values[0]\n",
    "        user_rating =  self.df.iloc[x]['rating']\n",
    "        \n",
    "        return torch.tensor([[user_id, movie_id]], dtype=torch.long), torch.tensor(user_rating, dtype=torch.float)"
   ]
  },
  {
   "cell_type": "code",
   "execution_count": 7,
   "id": "39727053",
   "metadata": {
    "execution": {
     "iopub.execute_input": "2023-04-22T06:50:08.925183Z",
     "iopub.status.busy": "2023-04-22T06:50:08.924245Z",
     "iopub.status.idle": "2023-04-22T06:50:09.052416Z",
     "shell.execute_reply": "2023-04-22T06:50:09.050882Z"
    },
    "papermill": {
     "duration": 0.140661,
     "end_time": "2023-04-22T06:50:09.055491",
     "exception": false,
     "start_time": "2023-04-22T06:50:08.914830",
     "status": "completed"
    },
    "tags": []
   },
   "outputs": [
    {
     "name": "stdout",
     "output_type": "stream",
     "text": [
      "1669 380 (tensor([[0, 0]]), tensor(3.5000))\n"
     ]
    }
   ],
   "source": [
    "split_size = 0.8\n",
    "msk = np.random.rand(len(ratings_top)) < split_size\n",
    "\n",
    "train_ratings = ratings_top[msk]\n",
    "\n",
    "test_ratings = ratings_top[~msk]\n",
    "\n",
    "train_dataset = cf_dataset(train_ratings)\n",
    "test_dataset = cf_dataset(test_ratings)\n",
    "print(len(train_ratings), len(test_ratings), train_dataset[0])"
   ]
  },
  {
   "cell_type": "code",
   "execution_count": 8,
   "id": "83491e51",
   "metadata": {
    "execution": {
     "iopub.execute_input": "2023-04-22T06:50:09.072034Z",
     "iopub.status.busy": "2023-04-22T06:50:09.071178Z",
     "iopub.status.idle": "2023-04-22T06:50:09.079588Z",
     "shell.execute_reply": "2023-04-22T06:50:09.078398Z"
    },
    "papermill": {
     "duration": 0.020409,
     "end_time": "2023-04-22T06:50:09.082805",
     "exception": false,
     "start_time": "2023-04-22T06:50:09.062396",
     "status": "completed"
    },
    "tags": []
   },
   "outputs": [],
   "source": [
    "class Model(nn.Module):\n",
    "    def __init__(self, n_users, n_movies, n_factors):\n",
    "        super().__init__()\n",
    "        self.users = nn.Embedding(n_users, n_factors)\n",
    "        self.movies = nn.Embedding(n_movies, n_factors)\n",
    "    \n",
    "    def forward(self, x):\n",
    "        users = self.users(x[:, 0])\n",
    "        movies = self.movies(x[:, 1])\n",
    "        return (users*movies).sum(dim=1)\n"
   ]
  },
  {
   "cell_type": "code",
   "execution_count": 9,
   "id": "b72fa00e",
   "metadata": {
    "execution": {
     "iopub.execute_input": "2023-04-22T06:50:09.099038Z",
     "iopub.status.busy": "2023-04-22T06:50:09.098164Z",
     "iopub.status.idle": "2023-04-22T06:50:09.118803Z",
     "shell.execute_reply": "2023-04-22T06:50:09.117368Z"
    },
    "papermill": {
     "duration": 0.032402,
     "end_time": "2023-04-22T06:50:09.122000",
     "exception": false,
     "start_time": "2023-04-22T06:50:09.089598",
     "status": "completed"
    },
    "tags": []
   },
   "outputs": [],
   "source": [
    "device = ('cuda' if torch.cuda.is_available() else 'cpu')\n",
    "train_dataloader = torch.utils.data.DataLoader(train_dataset, batch_size=16, num_workers=2)\n",
    "test_dataloader = torch.utils.data.DataLoader(test_dataset, batch_size=16)\n",
    "\n",
    "criterion = torch.nn.MSELoss()\n",
    "n_of_unique_users, n_of_unique_movies, n_factors = len(ratings_origin.userId.unique()), len(ratings_origin.movieId.unique()), 5 \n",
    "model = Model(n_of_unique_users, n_of_unique_movies, n_factors)\n",
    "model.to(device)\n",
    "opt = torch.optim.SGD(model.parameters(), lr=1e-2)"
   ]
  },
  {
   "cell_type": "code",
   "execution_count": 10,
   "id": "0513f008",
   "metadata": {
    "execution": {
     "iopub.execute_input": "2023-04-22T06:50:09.139130Z",
     "iopub.status.busy": "2023-04-22T06:50:09.137836Z",
     "iopub.status.idle": "2023-04-22T06:50:09.147587Z",
     "shell.execute_reply": "2023-04-22T06:50:09.145785Z"
    },
    "papermill": {
     "duration": 0.022033,
     "end_time": "2023-04-22T06:50:09.150549",
     "exception": false,
     "start_time": "2023-04-22T06:50:09.128516",
     "status": "completed"
    },
    "tags": []
   },
   "outputs": [],
   "source": [
    "def train(model, dataloader, criterion, opt, epoch, total_epochs, verbose=False):\n",
    "    \n",
    "    model.train()\n",
    "    epoch_loss = 0.0\n",
    "    for data, rating in tqdm(dataloader):\n",
    "\n",
    "        data, rating = data.to(device), rating.to(device)\n",
    "        output = model(data.squeeze(1))\n",
    "        \n",
    "        loss = criterion(output, rating)\n",
    "\n",
    "        opt.zero_grad()\n",
    "        loss.backward()\n",
    "        opt.step()\n",
    "\n",
    "        epoch_loss += loss\n",
    "    if verbose:\n",
    "        print(f'Training : Epoch: {epoch + 1} / {total_epochs} Current loss: {(epoch_loss / len(dataloader)):4f}')\n",
    "    \n",
    "    return model, (epoch_loss / len(dataloader)).detach().cpu().item()"
   ]
  },
  {
   "cell_type": "code",
   "execution_count": 11,
   "id": "18e28246",
   "metadata": {
    "execution": {
     "iopub.execute_input": "2023-04-22T06:50:09.165425Z",
     "iopub.status.busy": "2023-04-22T06:50:09.164955Z",
     "iopub.status.idle": "2023-04-22T06:50:09.174318Z",
     "shell.execute_reply": "2023-04-22T06:50:09.172726Z"
    },
    "papermill": {
     "duration": 0.020334,
     "end_time": "2023-04-22T06:50:09.177220",
     "exception": false,
     "start_time": "2023-04-22T06:50:09.156886",
     "status": "completed"
    },
    "tags": []
   },
   "outputs": [],
   "source": [
    "def validate(model, dataloader, criterion, opt, epoch, total_epochs, verbose=False):\n",
    "    model.eval()\n",
    "    \n",
    "    with torch.no_grad():\n",
    "        val_loss = 0.0\n",
    "        for data, rating in tqdm(dataloader):\n",
    "            data, rating = data.to(device), rating.to(device)\n",
    "            \n",
    "            output = model(data.squeeze(1))\n",
    "            \n",
    "            loss = criterion(output, rating)\n",
    "            val_loss += loss\n",
    "        if verbose:\n",
    "            print(f'Validation : Epoch: {epoch + 1} / {total_epochs} Current loss: {(val_loss / len(dataloader)):4f}')\n",
    "        \n",
    "    return (val_loss / len(dataloader)).detach().cpu().item()"
   ]
  },
  {
   "cell_type": "code",
   "execution_count": 12,
   "id": "0feef195",
   "metadata": {
    "execution": {
     "iopub.execute_input": "2023-04-22T06:50:09.193154Z",
     "iopub.status.busy": "2023-04-22T06:50:09.191612Z",
     "iopub.status.idle": "2023-04-22T06:50:09.200478Z",
     "shell.execute_reply": "2023-04-22T06:50:09.199071Z"
    },
    "papermill": {
     "duration": 0.019337,
     "end_time": "2023-04-22T06:50:09.203092",
     "exception": false,
     "start_time": "2023-04-22T06:50:09.183755",
     "status": "completed"
    },
    "tags": []
   },
   "outputs": [],
   "source": [
    "def plot_results(train_losses, val_losses, i, ax, emb_user, emb_movie, factor):\n",
    "    ax[int(i / 2), i % 2].plot(train_losses, label='train loss')\n",
    "    ax[int(i / 2), i % 2].plot(val_losses, label='val loss')\n",
    "    ax[int(i / 2), i % 2].set_xlabel('Epochs')\n",
    "    ax[int(i / 2), i % 2].set_ylabel('MSE')\n",
    "    ax[int(i / 2), i % 2].title.set_text(f'top users: {emb_user}'\n",
    "                                              f', top_movies: {emb_movie}'\n",
    "                                              f' n_factor: {factor}')"
   ]
  },
  {
   "cell_type": "code",
   "execution_count": 13,
   "id": "6da692e5",
   "metadata": {
    "execution": {
     "iopub.execute_input": "2023-04-22T06:50:09.219322Z",
     "iopub.status.busy": "2023-04-22T06:50:09.218802Z",
     "iopub.status.idle": "2023-04-22T06:50:09.228092Z",
     "shell.execute_reply": "2023-04-22T06:50:09.226632Z"
    },
    "papermill": {
     "duration": 0.021247,
     "end_time": "2023-04-22T06:50:09.230817",
     "exception": false,
     "start_time": "2023-04-22T06:50:09.209570",
     "status": "completed"
    },
    "tags": []
   },
   "outputs": [],
   "source": [
    "def create_dataloaders(split_size,n_users, n_movies):\n",
    "    ratings_top, movie_set, user_set, inv_movie_set, inv_user_set=  get_top_data(ratings_origin, n_users, n_movies)\n",
    "    split_size = split_size\n",
    "    msk = np.random.rand(len(ratings_top)) < split_size\n",
    "    train_ratings = ratings_top[msk]\n",
    "    test_ratings = ratings_top[~msk]\n",
    "\n",
    "    train_dataset = cf_dataset(train_ratings)\n",
    "    test_dataset = cf_dataset(test_ratings)\n",
    "    \n",
    "    train_dataloader = torch.utils.data.DataLoader(train_dataset, batch_size=16)\n",
    "    val_dataloader = torch.utils.data.DataLoader(test_dataset, batch_size=16)\n",
    "    return train_dataloader, val_dataloader"
   ]
  },
  {
   "cell_type": "code",
   "execution_count": 14,
   "id": "ceca47ff",
   "metadata": {
    "execution": {
     "iopub.execute_input": "2023-04-22T06:50:09.246164Z",
     "iopub.status.busy": "2023-04-22T06:50:09.245671Z",
     "iopub.status.idle": "2023-04-22T09:54:36.807509Z",
     "shell.execute_reply": "2023-04-22T09:54:36.806460Z"
    },
    "papermill": {
     "duration": 11067.574022,
     "end_time": "2023-04-22T09:54:36.811096",
     "exception": false,
     "start_time": "2023-04-22T06:50:09.237074",
     "status": "completed"
    },
    "tags": []
   },
   "outputs": [
    {
     "name": "stdout",
     "output_type": "stream",
     "text": [
      "*************************emb_user: 50, emb_movie: 50 factor: 5*************************\n"
     ]
    },
    {
     "name": "stderr",
     "output_type": "stream",
     "text": [
      "100%|██████████| 103/103 [00:02<00:00, 43.30it/s]\n",
      "100%|██████████| 26/26 [00:00<00:00, 43.98it/s]\n"
     ]
    },
    {
     "name": "stdout",
     "output_type": "stream",
     "text": [
      "Training : Epoch: 1 / 21 Current loss: 20.490\n",
      "Validation : Epoch: 1 / 21 Current loss: 17.995083\n"
     ]
    },
    {
     "name": "stderr",
     "output_type": "stream",
     "text": [
      "100%|██████████| 103/103 [00:02<00:00, 43.21it/s]\n",
      "100%|██████████| 26/26 [00:00<00:00, 44.36it/s]\n",
      "100%|██████████| 103/103 [00:02<00:00, 44.70it/s]\n",
      "100%|██████████| 26/26 [00:00<00:00, 44.43it/s]\n",
      "100%|██████████| 103/103 [00:02<00:00, 44.40it/s]\n",
      "100%|██████████| 26/26 [00:00<00:00, 44.68it/s]\n",
      "100%|██████████| 103/103 [00:02<00:00, 42.56it/s]\n",
      "100%|██████████| 26/26 [00:00<00:00, 44.32it/s]\n",
      "100%|██████████| 103/103 [00:02<00:00, 43.41it/s]\n",
      "100%|██████████| 26/26 [00:00<00:00, 43.91it/s]\n"
     ]
    },
    {
     "name": "stdout",
     "output_type": "stream",
     "text": [
      "Training : Epoch: 6 / 21 Current loss: 14.481\n",
      "Validation : Epoch: 6 / 21 Current loss: 14.541513\n"
     ]
    },
    {
     "name": "stderr",
     "output_type": "stream",
     "text": [
      "100%|██████████| 103/103 [00:02<00:00, 44.10it/s]\n",
      "100%|██████████| 26/26 [00:00<00:00, 44.16it/s]\n",
      "100%|██████████| 103/103 [00:02<00:00, 43.52it/s]\n",
      "100%|██████████| 26/26 [00:00<00:00, 45.42it/s]\n",
      "100%|██████████| 103/103 [00:02<00:00, 44.06it/s]\n",
      "100%|██████████| 26/26 [00:00<00:00, 44.74it/s]\n",
      "100%|██████████| 103/103 [00:02<00:00, 44.33it/s]\n",
      "100%|██████████| 26/26 [00:00<00:00, 44.41it/s]\n",
      "100%|██████████| 103/103 [00:02<00:00, 43.83it/s]\n",
      "100%|██████████| 26/26 [00:00<00:00, 44.55it/s]\n"
     ]
    },
    {
     "name": "stdout",
     "output_type": "stream",
     "text": [
      "Training : Epoch: 11 / 21 Current loss: 8.713\n",
      "Validation : Epoch: 11 / 21 Current loss: 9.448717\n"
     ]
    },
    {
     "name": "stderr",
     "output_type": "stream",
     "text": [
      "100%|██████████| 103/103 [00:02<00:00, 44.24it/s]\n",
      "100%|██████████| 26/26 [00:00<00:00, 45.31it/s]\n",
      "100%|██████████| 103/103 [00:02<00:00, 43.85it/s]\n",
      "100%|██████████| 26/26 [00:00<00:00, 44.92it/s]\n",
      "100%|██████████| 103/103 [00:02<00:00, 44.58it/s]\n",
      "100%|██████████| 26/26 [00:00<00:00, 44.54it/s]\n",
      "100%|██████████| 103/103 [00:02<00:00, 44.31it/s]\n",
      "100%|██████████| 26/26 [00:00<00:00, 44.42it/s]\n",
      "100%|██████████| 103/103 [00:02<00:00, 43.45it/s]\n",
      "100%|██████████| 26/26 [00:00<00:00, 44.41it/s]\n"
     ]
    },
    {
     "name": "stdout",
     "output_type": "stream",
     "text": [
      "Training : Epoch: 16 / 21 Current loss: 3.717\n",
      "Validation : Epoch: 16 / 21 Current loss: 4.566818\n"
     ]
    },
    {
     "name": "stderr",
     "output_type": "stream",
     "text": [
      "100%|██████████| 103/103 [00:02<00:00, 44.24it/s]\n",
      "100%|██████████| 26/26 [00:00<00:00, 44.56it/s]\n",
      "100%|██████████| 103/103 [00:02<00:00, 44.16it/s]\n",
      "100%|██████████| 26/26 [00:00<00:00, 44.37it/s]\n",
      "100%|██████████| 103/103 [00:02<00:00, 44.26it/s]\n",
      "100%|██████████| 26/26 [00:00<00:00, 44.89it/s]\n",
      "100%|██████████| 103/103 [00:02<00:00, 44.17it/s]\n",
      "100%|██████████| 26/26 [00:00<00:00, 44.50it/s]\n",
      "100%|██████████| 103/103 [00:02<00:00, 43.82it/s]\n",
      "100%|██████████| 26/26 [00:00<00:00, 45.55it/s]\n"
     ]
    },
    {
     "name": "stdout",
     "output_type": "stream",
     "text": [
      "Training : Epoch: 21 / 21 Current loss: 1.609\n",
      "Validation : Epoch: 21 / 21 Current loss: 2.303634\n",
      "*************************emb_user: 50, emb_movie: 50 factor: 15*************************\n"
     ]
    },
    {
     "name": "stderr",
     "output_type": "stream",
     "text": [
      "100%|██████████| 103/103 [00:02<00:00, 44.29it/s]\n",
      "100%|██████████| 26/26 [00:00<00:00, 44.70it/s]\n"
     ]
    },
    {
     "name": "stdout",
     "output_type": "stream",
     "text": [
      "Training : Epoch: 1 / 21 Current loss: 31.532\n",
      "Validation : Epoch: 1 / 21 Current loss: 26.256884\n"
     ]
    },
    {
     "name": "stderr",
     "output_type": "stream",
     "text": [
      "100%|██████████| 103/103 [00:02<00:00, 44.03it/s]\n",
      "100%|██████████| 26/26 [00:00<00:00, 44.80it/s]\n",
      "100%|██████████| 103/103 [00:02<00:00, 43.70it/s]\n",
      "100%|██████████| 26/26 [00:00<00:00, 43.49it/s]\n",
      "100%|██████████| 103/103 [00:02<00:00, 44.22it/s]\n",
      "100%|██████████| 26/26 [00:00<00:00, 44.61it/s]\n",
      "100%|██████████| 103/103 [00:02<00:00, 44.74it/s]\n",
      "100%|██████████| 26/26 [00:00<00:00, 41.98it/s]\n",
      "100%|██████████| 103/103 [00:02<00:00, 43.66it/s]\n",
      "100%|██████████| 26/26 [00:00<00:00, 44.63it/s]\n"
     ]
    },
    {
     "name": "stdout",
     "output_type": "stream",
     "text": [
      "Training : Epoch: 6 / 21 Current loss: 19.198\n",
      "Validation : Epoch: 6 / 21 Current loss: 22.312000\n"
     ]
    },
    {
     "name": "stderr",
     "output_type": "stream",
     "text": [
      "100%|██████████| 103/103 [00:02<00:00, 43.60it/s]\n",
      "100%|██████████| 26/26 [00:00<00:00, 44.57it/s]\n",
      "100%|██████████| 103/103 [00:02<00:00, 44.02it/s]\n",
      "100%|██████████| 26/26 [00:00<00:00, 44.26it/s]\n",
      "100%|██████████| 103/103 [00:02<00:00, 44.38it/s]\n",
      "100%|██████████| 26/26 [00:00<00:00, 44.31it/s]\n",
      "100%|██████████| 103/103 [00:02<00:00, 44.18it/s]\n",
      "100%|██████████| 26/26 [00:00<00:00, 43.67it/s]\n",
      "100%|██████████| 103/103 [00:02<00:00, 43.79it/s]\n",
      "100%|██████████| 26/26 [00:00<00:00, 43.90it/s]\n"
     ]
    },
    {
     "name": "stdout",
     "output_type": "stream",
     "text": [
      "Training : Epoch: 11 / 21 Current loss: 12.904\n",
      "Validation : Epoch: 11 / 21 Current loss: 18.350325\n"
     ]
    },
    {
     "name": "stderr",
     "output_type": "stream",
     "text": [
      "100%|██████████| 103/103 [00:02<00:00, 44.36it/s]\n",
      "100%|██████████| 26/26 [00:00<00:00, 44.41it/s]\n",
      "100%|██████████| 103/103 [00:02<00:00, 44.42it/s]\n",
      "100%|██████████| 26/26 [00:00<00:00, 44.85it/s]\n",
      "100%|██████████| 103/103 [00:02<00:00, 44.53it/s]\n",
      "100%|██████████| 26/26 [00:00<00:00, 44.86it/s]\n",
      "100%|██████████| 103/103 [00:02<00:00, 43.96it/s]\n",
      "100%|██████████| 26/26 [00:00<00:00, 43.55it/s]\n",
      "100%|██████████| 103/103 [00:02<00:00, 42.83it/s]\n",
      "100%|██████████| 26/26 [00:00<00:00, 44.44it/s]\n"
     ]
    },
    {
     "name": "stdout",
     "output_type": "stream",
     "text": [
      "Training : Epoch: 16 / 21 Current loss: 6.605\n",
      "Validation : Epoch: 16 / 21 Current loss: 12.008128\n"
     ]
    },
    {
     "name": "stderr",
     "output_type": "stream",
     "text": [
      "100%|██████████| 103/103 [00:02<00:00, 43.64it/s]\n",
      "100%|██████████| 26/26 [00:00<00:00, 44.35it/s]\n",
      "100%|██████████| 103/103 [00:02<00:00, 44.04it/s]\n",
      "100%|██████████| 26/26 [00:00<00:00, 44.39it/s]\n",
      "100%|██████████| 103/103 [00:02<00:00, 43.34it/s]\n",
      "100%|██████████| 26/26 [00:00<00:00, 44.32it/s]\n",
      "100%|██████████| 103/103 [00:02<00:00, 44.18it/s]\n",
      "100%|██████████| 26/26 [00:00<00:00, 44.65it/s]\n",
      "100%|██████████| 103/103 [00:02<00:00, 44.00it/s]\n",
      "100%|██████████| 26/26 [00:00<00:00, 44.32it/s]\n"
     ]
    },
    {
     "name": "stdout",
     "output_type": "stream",
     "text": [
      "Training : Epoch: 21 / 21 Current loss: 2.785\n",
      "Validation : Epoch: 21 / 21 Current loss: 7.132348\n",
      "*************************emb_user: 150, emb_movie: 150 factor: 5*************************\n"
     ]
    },
    {
     "name": "stderr",
     "output_type": "stream",
     "text": [
      "100%|██████████| 591/591 [00:13<00:00, 43.73it/s]\n",
      "100%|██████████| 145/145 [00:03<00:00, 44.19it/s]\n"
     ]
    },
    {
     "name": "stdout",
     "output_type": "stream",
     "text": [
      "Training : Epoch: 1 / 21 Current loss: 20.181\n",
      "Validation : Epoch: 1 / 21 Current loss: 19.351433\n"
     ]
    },
    {
     "name": "stderr",
     "output_type": "stream",
     "text": [
      "100%|██████████| 591/591 [00:13<00:00, 44.27it/s]\n",
      "100%|██████████| 145/145 [00:03<00:00, 45.50it/s]\n",
      "100%|██████████| 591/591 [00:13<00:00, 44.43it/s]\n",
      "100%|██████████| 145/145 [00:03<00:00, 45.40it/s]\n",
      "100%|██████████| 591/591 [00:13<00:00, 44.51it/s]\n",
      "100%|██████████| 145/145 [00:03<00:00, 46.04it/s]\n",
      "100%|██████████| 591/591 [00:13<00:00, 44.14it/s]\n",
      "100%|██████████| 145/145 [00:03<00:00, 45.31it/s]\n",
      "100%|██████████| 591/591 [00:13<00:00, 43.65it/s]\n",
      "100%|██████████| 145/145 [00:03<00:00, 45.59it/s]\n"
     ]
    },
    {
     "name": "stdout",
     "output_type": "stream",
     "text": [
      "Training : Epoch: 6 / 21 Current loss: 15.657\n",
      "Validation : Epoch: 6 / 21 Current loss: 16.593447\n"
     ]
    },
    {
     "name": "stderr",
     "output_type": "stream",
     "text": [
      "100%|██████████| 591/591 [00:13<00:00, 44.25it/s]\n",
      "100%|██████████| 145/145 [00:03<00:00, 46.48it/s]\n",
      "100%|██████████| 591/591 [00:13<00:00, 44.66it/s]\n",
      "100%|██████████| 145/145 [00:03<00:00, 45.71it/s]\n",
      "100%|██████████| 591/591 [00:13<00:00, 44.43it/s]\n",
      "100%|██████████| 145/145 [00:03<00:00, 45.95it/s]\n",
      "100%|██████████| 591/591 [00:13<00:00, 44.72it/s]\n",
      "100%|██████████| 145/145 [00:03<00:00, 45.49it/s]\n",
      "100%|██████████| 591/591 [00:13<00:00, 44.49it/s]\n",
      "100%|██████████| 145/145 [00:03<00:00, 45.67it/s]\n"
     ]
    },
    {
     "name": "stdout",
     "output_type": "stream",
     "text": [
      "Training : Epoch: 11 / 21 Current loss: 8.572\n",
      "Validation : Epoch: 11 / 21 Current loss: 8.871870\n"
     ]
    },
    {
     "name": "stderr",
     "output_type": "stream",
     "text": [
      "100%|██████████| 591/591 [00:13<00:00, 44.51it/s]\n",
      "100%|██████████| 145/145 [00:03<00:00, 45.99it/s]\n",
      "100%|██████████| 591/591 [00:13<00:00, 44.36it/s]\n",
      "100%|██████████| 145/145 [00:03<00:00, 45.55it/s]\n",
      "100%|██████████| 591/591 [00:13<00:00, 44.52it/s]\n",
      "100%|██████████| 145/145 [00:03<00:00, 45.47it/s]\n",
      "100%|██████████| 591/591 [00:13<00:00, 44.38it/s]\n",
      "100%|██████████| 145/145 [00:03<00:00, 45.47it/s]\n",
      "100%|██████████| 591/591 [00:13<00:00, 44.48it/s]\n",
      "100%|██████████| 145/145 [00:03<00:00, 45.63it/s]\n"
     ]
    },
    {
     "name": "stdout",
     "output_type": "stream",
     "text": [
      "Training : Epoch: 16 / 21 Current loss: 1.869\n",
      "Validation : Epoch: 16 / 21 Current loss: 2.240504\n"
     ]
    },
    {
     "name": "stderr",
     "output_type": "stream",
     "text": [
      "100%|██████████| 591/591 [00:13<00:00, 44.05it/s]\n",
      "100%|██████████| 145/145 [00:03<00:00, 45.24it/s]\n",
      "100%|██████████| 591/591 [00:13<00:00, 44.18it/s]\n",
      "100%|██████████| 145/145 [00:03<00:00, 44.59it/s]\n",
      "100%|██████████| 591/591 [00:13<00:00, 44.18it/s]\n",
      "100%|██████████| 145/145 [00:03<00:00, 45.01it/s]\n",
      "100%|██████████| 591/591 [00:13<00:00, 44.49it/s]\n",
      "100%|██████████| 145/145 [00:03<00:00, 45.30it/s]\n",
      "100%|██████████| 591/591 [00:13<00:00, 44.59it/s]\n",
      "100%|██████████| 145/145 [00:03<00:00, 45.64it/s]\n"
     ]
    },
    {
     "name": "stdout",
     "output_type": "stream",
     "text": [
      "Training : Epoch: 21 / 21 Current loss: 0.948\n",
      "Validation : Epoch: 21 / 21 Current loss: 1.246603\n",
      "*************************emb_user: 150, emb_movie: 150 factor: 15*************************\n"
     ]
    },
    {
     "name": "stderr",
     "output_type": "stream",
     "text": [
      "100%|██████████| 588/588 [00:13<00:00, 44.30it/s]\n",
      "100%|██████████| 148/148 [00:03<00:00, 45.24it/s]\n"
     ]
    },
    {
     "name": "stdout",
     "output_type": "stream",
     "text": [
      "Training : Epoch: 1 / 21 Current loss: 28.621\n",
      "Validation : Epoch: 1 / 21 Current loss: 26.775177\n"
     ]
    },
    {
     "name": "stderr",
     "output_type": "stream",
     "text": [
      "100%|██████████| 588/588 [00:13<00:00, 44.35it/s]\n",
      "100%|██████████| 148/148 [00:03<00:00, 45.70it/s]\n",
      "100%|██████████| 588/588 [00:13<00:00, 44.19it/s]\n",
      "100%|██████████| 148/148 [00:03<00:00, 45.53it/s]\n",
      "100%|██████████| 588/588 [00:13<00:00, 44.37it/s]\n",
      "100%|██████████| 148/148 [00:03<00:00, 45.59it/s]\n",
      "100%|██████████| 588/588 [00:13<00:00, 44.63it/s]\n",
      "100%|██████████| 148/148 [00:03<00:00, 45.52it/s]\n",
      "100%|██████████| 588/588 [00:13<00:00, 44.46it/s]\n",
      "100%|██████████| 148/148 [00:03<00:00, 45.30it/s]\n"
     ]
    },
    {
     "name": "stdout",
     "output_type": "stream",
     "text": [
      "Training : Epoch: 6 / 21 Current loss: 14.791\n",
      "Validation : Epoch: 6 / 21 Current loss: 17.973419\n"
     ]
    },
    {
     "name": "stderr",
     "output_type": "stream",
     "text": [
      "100%|██████████| 588/588 [00:13<00:00, 44.59it/s]\n",
      "100%|██████████| 148/148 [00:03<00:00, 46.36it/s]\n",
      "100%|██████████| 588/588 [00:13<00:00, 44.57it/s]\n",
      "100%|██████████| 148/148 [00:03<00:00, 45.41it/s]\n",
      "100%|██████████| 588/588 [00:13<00:00, 44.46it/s]\n",
      "100%|██████████| 148/148 [00:03<00:00, 45.39it/s]\n",
      "100%|██████████| 588/588 [00:13<00:00, 44.76it/s]\n",
      "100%|██████████| 148/148 [00:03<00:00, 45.73it/s]\n",
      "100%|██████████| 588/588 [00:13<00:00, 44.41it/s]\n",
      "100%|██████████| 148/148 [00:03<00:00, 46.13it/s]\n"
     ]
    },
    {
     "name": "stdout",
     "output_type": "stream",
     "text": [
      "Training : Epoch: 11 / 21 Current loss: 4.606\n",
      "Validation : Epoch: 11 / 21 Current loss: 6.845470\n"
     ]
    },
    {
     "name": "stderr",
     "output_type": "stream",
     "text": [
      "100%|██████████| 588/588 [00:13<00:00, 44.77it/s]\n",
      "100%|██████████| 148/148 [00:03<00:00, 45.84it/s]\n",
      "100%|██████████| 588/588 [00:13<00:00, 44.59it/s]\n",
      "100%|██████████| 148/148 [00:03<00:00, 45.91it/s]\n",
      "100%|██████████| 588/588 [00:13<00:00, 44.61it/s]\n",
      "100%|██████████| 148/148 [00:03<00:00, 45.84it/s]\n",
      "100%|██████████| 588/588 [00:13<00:00, 44.59it/s]\n",
      "100%|██████████| 148/148 [00:03<00:00, 46.18it/s]\n",
      "100%|██████████| 588/588 [00:13<00:00, 44.48it/s]\n",
      "100%|██████████| 148/148 [00:03<00:00, 44.90it/s]\n"
     ]
    },
    {
     "name": "stdout",
     "output_type": "stream",
     "text": [
      "Training : Epoch: 16 / 21 Current loss: 1.766\n",
      "Validation : Epoch: 16 / 21 Current loss: 3.431541\n"
     ]
    },
    {
     "name": "stderr",
     "output_type": "stream",
     "text": [
      "100%|██████████| 588/588 [00:13<00:00, 44.66it/s]\n",
      "100%|██████████| 148/148 [00:03<00:00, 46.04it/s]\n",
      "100%|██████████| 588/588 [00:13<00:00, 44.27it/s]\n",
      "100%|██████████| 148/148 [00:03<00:00, 45.89it/s]\n",
      "100%|██████████| 588/588 [00:13<00:00, 44.87it/s]\n",
      "100%|██████████| 148/148 [00:03<00:00, 45.59it/s]\n",
      "100%|██████████| 588/588 [00:13<00:00, 44.45it/s]\n",
      "100%|██████████| 148/148 [00:03<00:00, 45.96it/s]\n",
      "100%|██████████| 588/588 [00:13<00:00, 44.60it/s]\n",
      "100%|██████████| 148/148 [00:03<00:00, 45.57it/s]\n"
     ]
    },
    {
     "name": "stdout",
     "output_type": "stream",
     "text": [
      "Training : Epoch: 21 / 21 Current loss: 1.177\n",
      "Validation : Epoch: 21 / 21 Current loss: 2.537665\n",
      "*************************emb_user: 250, emb_movie: 250 factor: 5*************************\n"
     ]
    },
    {
     "name": "stderr",
     "output_type": "stream",
     "text": [
      "100%|██████████| 1096/1096 [00:24<00:00, 44.35it/s]\n",
      "100%|██████████| 279/279 [00:06<00:00, 45.59it/s]\n"
     ]
    },
    {
     "name": "stdout",
     "output_type": "stream",
     "text": [
      "Training : Epoch: 1 / 21 Current loss: 19.098\n",
      "Validation : Epoch: 1 / 21 Current loss: 19.011425\n"
     ]
    },
    {
     "name": "stderr",
     "output_type": "stream",
     "text": [
      "100%|██████████| 1096/1096 [00:24<00:00, 44.29it/s]\n",
      "100%|██████████| 279/279 [00:06<00:00, 45.24it/s]\n",
      "100%|██████████| 1096/1096 [00:24<00:00, 44.44it/s]\n",
      "100%|██████████| 279/279 [00:06<00:00, 45.45it/s]\n",
      "100%|██████████| 1096/1096 [00:24<00:00, 44.58it/s]\n",
      "100%|██████████| 279/279 [00:06<00:00, 45.96it/s]\n",
      "100%|██████████| 1096/1096 [00:24<00:00, 44.38it/s]\n",
      "100%|██████████| 279/279 [00:06<00:00, 45.44it/s]\n",
      "100%|██████████| 1096/1096 [00:24<00:00, 44.40it/s]\n",
      "100%|██████████| 279/279 [00:06<00:00, 45.60it/s]\n"
     ]
    },
    {
     "name": "stdout",
     "output_type": "stream",
     "text": [
      "Training : Epoch: 6 / 21 Current loss: 13.829\n",
      "Validation : Epoch: 6 / 21 Current loss: 14.776688\n"
     ]
    },
    {
     "name": "stderr",
     "output_type": "stream",
     "text": [
      "100%|██████████| 1096/1096 [00:24<00:00, 44.66it/s]\n",
      "100%|██████████| 279/279 [00:06<00:00, 45.72it/s]\n",
      "100%|██████████| 1096/1096 [00:24<00:00, 44.61it/s]\n",
      "100%|██████████| 279/279 [00:06<00:00, 45.44it/s]\n",
      "100%|██████████| 1096/1096 [00:24<00:00, 44.52it/s]\n",
      "100%|██████████| 279/279 [00:06<00:00, 45.39it/s]\n",
      "100%|██████████| 1096/1096 [00:24<00:00, 44.39it/s]\n",
      "100%|██████████| 279/279 [00:06<00:00, 45.57it/s]\n",
      "100%|██████████| 1096/1096 [00:24<00:00, 44.58it/s]\n",
      "100%|██████████| 279/279 [00:06<00:00, 45.89it/s]\n"
     ]
    },
    {
     "name": "stdout",
     "output_type": "stream",
     "text": [
      "Training : Epoch: 11 / 21 Current loss: 4.243\n",
      "Validation : Epoch: 11 / 21 Current loss: 4.562168\n"
     ]
    },
    {
     "name": "stderr",
     "output_type": "stream",
     "text": [
      "100%|██████████| 1096/1096 [00:24<00:00, 44.14it/s]\n",
      "100%|██████████| 279/279 [00:06<00:00, 45.62it/s]\n",
      "100%|██████████| 1096/1096 [00:24<00:00, 44.31it/s]\n",
      "100%|██████████| 279/279 [00:06<00:00, 45.18it/s]\n",
      "100%|██████████| 1096/1096 [00:24<00:00, 44.49it/s]\n",
      "100%|██████████| 279/279 [00:06<00:00, 45.50it/s]\n",
      "100%|██████████| 1096/1096 [00:24<00:00, 44.44it/s]\n",
      "100%|██████████| 279/279 [00:06<00:00, 45.70it/s]\n",
      "100%|██████████| 1096/1096 [00:24<00:00, 44.48it/s]\n",
      "100%|██████████| 279/279 [00:06<00:00, 45.60it/s]\n"
     ]
    },
    {
     "name": "stdout",
     "output_type": "stream",
     "text": [
      "Training : Epoch: 16 / 21 Current loss: 1.358\n",
      "Validation : Epoch: 16 / 21 Current loss: 1.790243\n"
     ]
    },
    {
     "name": "stderr",
     "output_type": "stream",
     "text": [
      "100%|██████████| 1096/1096 [00:24<00:00, 44.55it/s]\n",
      "100%|██████████| 279/279 [00:06<00:00, 45.48it/s]\n",
      "100%|██████████| 1096/1096 [00:24<00:00, 44.44it/s]\n",
      "100%|██████████| 279/279 [00:06<00:00, 45.45it/s]\n",
      "100%|██████████| 1096/1096 [00:24<00:00, 44.51it/s]\n",
      "100%|██████████| 279/279 [00:06<00:00, 45.42it/s]\n",
      "100%|██████████| 1096/1096 [00:24<00:00, 44.66it/s]\n",
      "100%|██████████| 279/279 [00:06<00:00, 45.94it/s]\n",
      "100%|██████████| 1096/1096 [00:24<00:00, 44.67it/s]\n",
      "100%|██████████| 279/279 [00:06<00:00, 45.51it/s]\n"
     ]
    },
    {
     "name": "stdout",
     "output_type": "stream",
     "text": [
      "Training : Epoch: 21 / 21 Current loss: 0.916\n",
      "Validation : Epoch: 21 / 21 Current loss: 1.261406\n",
      "*************************emb_user: 250, emb_movie: 250 factor: 15*************************\n"
     ]
    },
    {
     "name": "stderr",
     "output_type": "stream",
     "text": [
      "100%|██████████| 1096/1096 [00:24<00:00, 44.42it/s]\n",
      "100%|██████████| 279/279 [00:06<00:00, 45.23it/s]\n"
     ]
    },
    {
     "name": "stdout",
     "output_type": "stream",
     "text": [
      "Training : Epoch: 1 / 21 Current loss: 27.494\n",
      "Validation : Epoch: 1 / 21 Current loss: 25.060465\n"
     ]
    },
    {
     "name": "stderr",
     "output_type": "stream",
     "text": [
      "100%|██████████| 1096/1096 [00:24<00:00, 44.38it/s]\n",
      "100%|██████████| 279/279 [00:06<00:00, 45.64it/s]\n",
      "100%|██████████| 1096/1096 [00:24<00:00, 44.59it/s]\n",
      "100%|██████████| 279/279 [00:06<00:00, 45.56it/s]\n",
      "100%|██████████| 1096/1096 [00:24<00:00, 44.57it/s]\n",
      "100%|██████████| 279/279 [00:06<00:00, 45.52it/s]\n",
      "100%|██████████| 1096/1096 [00:24<00:00, 44.56it/s]\n",
      "100%|██████████| 279/279 [00:06<00:00, 45.73it/s]\n",
      "100%|██████████| 1096/1096 [00:24<00:00, 44.53it/s]\n",
      "100%|██████████| 279/279 [00:06<00:00, 45.63it/s]\n"
     ]
    },
    {
     "name": "stdout",
     "output_type": "stream",
     "text": [
      "Training : Epoch: 6 / 21 Current loss: 12.745\n",
      "Validation : Epoch: 6 / 21 Current loss: 14.599220\n"
     ]
    },
    {
     "name": "stderr",
     "output_type": "stream",
     "text": [
      "100%|██████████| 1096/1096 [00:24<00:00, 44.49it/s]\n",
      "100%|██████████| 279/279 [00:06<00:00, 45.45it/s]\n",
      "100%|██████████| 1096/1096 [00:24<00:00, 44.40it/s]\n",
      "100%|██████████| 279/279 [00:06<00:00, 45.34it/s]\n",
      "100%|██████████| 1096/1096 [00:24<00:00, 44.58it/s]\n",
      "100%|██████████| 279/279 [00:06<00:00, 45.67it/s]\n",
      "100%|██████████| 1096/1096 [00:24<00:00, 44.48it/s]\n",
      "100%|██████████| 279/279 [00:06<00:00, 46.09it/s]\n",
      "100%|██████████| 1096/1096 [00:24<00:00, 44.60it/s]\n",
      "100%|██████████| 279/279 [00:06<00:00, 45.52it/s]\n"
     ]
    },
    {
     "name": "stdout",
     "output_type": "stream",
     "text": [
      "Training : Epoch: 11 / 21 Current loss: 3.417\n",
      "Validation : Epoch: 11 / 21 Current loss: 4.943166\n"
     ]
    },
    {
     "name": "stderr",
     "output_type": "stream",
     "text": [
      "100%|██████████| 1096/1096 [00:24<00:00, 44.41it/s]\n",
      "100%|██████████| 279/279 [00:06<00:00, 45.61it/s]\n",
      "100%|██████████| 1096/1096 [00:24<00:00, 44.70it/s]\n",
      "100%|██████████| 279/279 [00:06<00:00, 45.54it/s]\n",
      "100%|██████████| 1096/1096 [00:24<00:00, 44.39it/s]\n",
      "100%|██████████| 279/279 [00:06<00:00, 45.18it/s]\n",
      "100%|██████████| 1096/1096 [00:24<00:00, 44.72it/s]\n",
      "100%|██████████| 279/279 [00:06<00:00, 44.80it/s]\n",
      "100%|██████████| 1096/1096 [00:24<00:00, 44.52it/s]\n",
      "100%|██████████| 279/279 [00:06<00:00, 44.95it/s]\n"
     ]
    },
    {
     "name": "stdout",
     "output_type": "stream",
     "text": [
      "Training : Epoch: 16 / 21 Current loss: 1.576\n",
      "Validation : Epoch: 16 / 21 Current loss: 2.820013\n"
     ]
    },
    {
     "name": "stderr",
     "output_type": "stream",
     "text": [
      "100%|██████████| 1096/1096 [00:24<00:00, 44.74it/s]\n",
      "100%|██████████| 279/279 [00:06<00:00, 45.50it/s]\n",
      "100%|██████████| 1096/1096 [00:24<00:00, 44.73it/s]\n",
      "100%|██████████| 279/279 [00:06<00:00, 45.52it/s]\n",
      "100%|██████████| 1096/1096 [00:24<00:00, 44.54it/s]\n",
      "100%|██████████| 279/279 [00:06<00:00, 45.56it/s]\n",
      "100%|██████████| 1096/1096 [00:24<00:00, 44.47it/s]\n",
      "100%|██████████| 279/279 [00:06<00:00, 45.08it/s]\n",
      "100%|██████████| 1096/1096 [00:24<00:00, 44.88it/s]\n",
      "100%|██████████| 279/279 [00:06<00:00, 44.71it/s]\n"
     ]
    },
    {
     "name": "stdout",
     "output_type": "stream",
     "text": [
      "Training : Epoch: 21 / 21 Current loss: 1.110\n",
      "Validation : Epoch: 21 / 21 Current loss: 2.165754\n",
      "*************************emb_user: 500, emb_movie: 500 factor: 5*************************\n"
     ]
    },
    {
     "name": "stderr",
     "output_type": "stream",
     "text": [
      "100%|██████████| 2106/2106 [00:47<00:00, 44.70it/s]\n",
      "100%|██████████| 527/527 [00:11<00:00, 45.81it/s]\n"
     ]
    },
    {
     "name": "stdout",
     "output_type": "stream",
     "text": [
      "Training : Epoch: 1 / 21 Current loss: 18.735\n",
      "Validation : Epoch: 1 / 21 Current loss: 17.881311\n"
     ]
    },
    {
     "name": "stderr",
     "output_type": "stream",
     "text": [
      "100%|██████████| 2106/2106 [00:47<00:00, 44.62it/s]\n",
      "100%|██████████| 527/527 [00:11<00:00, 45.81it/s]\n",
      "100%|██████████| 2106/2106 [00:46<00:00, 44.81it/s]\n",
      "100%|██████████| 527/527 [00:11<00:00, 45.97it/s]\n",
      "100%|██████████| 2106/2106 [00:46<00:00, 44.86it/s]\n",
      "100%|██████████| 527/527 [00:11<00:00, 45.82it/s]\n",
      "100%|██████████| 2106/2106 [00:46<00:00, 44.81it/s]\n",
      "100%|██████████| 527/527 [00:11<00:00, 45.81it/s]\n",
      "100%|██████████| 2106/2106 [00:47<00:00, 44.75it/s]\n",
      "100%|██████████| 527/527 [00:11<00:00, 45.56it/s]\n"
     ]
    },
    {
     "name": "stdout",
     "output_type": "stream",
     "text": [
      "Training : Epoch: 6 / 21 Current loss: 12.447\n",
      "Validation : Epoch: 6 / 21 Current loss: 12.508023\n"
     ]
    },
    {
     "name": "stderr",
     "output_type": "stream",
     "text": [
      "100%|██████████| 2106/2106 [00:47<00:00, 44.69it/s]\n",
      "100%|██████████| 527/527 [00:11<00:00, 45.81it/s]\n",
      "100%|██████████| 2106/2106 [00:46<00:00, 44.82it/s]\n",
      "100%|██████████| 527/527 [00:11<00:00, 45.57it/s]\n",
      "100%|██████████| 2106/2106 [00:46<00:00, 44.92it/s]\n",
      "100%|██████████| 527/527 [00:11<00:00, 45.71it/s]\n",
      "100%|██████████| 2106/2106 [00:47<00:00, 44.71it/s]\n",
      "100%|██████████| 527/527 [00:11<00:00, 45.40it/s]\n",
      "100%|██████████| 2106/2106 [00:47<00:00, 44.78it/s]\n",
      "100%|██████████| 527/527 [00:11<00:00, 45.78it/s]\n"
     ]
    },
    {
     "name": "stdout",
     "output_type": "stream",
     "text": [
      "Training : Epoch: 11 / 21 Current loss: 3.709\n",
      "Validation : Epoch: 11 / 21 Current loss: 3.905467\n"
     ]
    },
    {
     "name": "stderr",
     "output_type": "stream",
     "text": [
      "100%|██████████| 2106/2106 [00:46<00:00, 44.89it/s]\n",
      "100%|██████████| 527/527 [00:11<00:00, 46.27it/s]\n",
      "100%|██████████| 2106/2106 [00:47<00:00, 44.67it/s]\n",
      "100%|██████████| 527/527 [00:11<00:00, 46.00it/s]\n",
      "100%|██████████| 2106/2106 [00:47<00:00, 44.69it/s]\n",
      "100%|██████████| 527/527 [00:11<00:00, 45.72it/s]\n",
      "100%|██████████| 2106/2106 [00:46<00:00, 44.89it/s]\n",
      "100%|██████████| 527/527 [00:11<00:00, 45.59it/s]\n",
      "100%|██████████| 2106/2106 [00:47<00:00, 44.70it/s]\n",
      "100%|██████████| 527/527 [00:11<00:00, 45.72it/s]\n"
     ]
    },
    {
     "name": "stdout",
     "output_type": "stream",
     "text": [
      "Training : Epoch: 16 / 21 Current loss: 1.539\n",
      "Validation : Epoch: 16 / 21 Current loss: 1.840564\n"
     ]
    },
    {
     "name": "stderr",
     "output_type": "stream",
     "text": [
      "100%|██████████| 2106/2106 [00:46<00:00, 44.93it/s]\n",
      "100%|██████████| 527/527 [00:11<00:00, 45.93it/s]\n",
      "100%|██████████| 2106/2106 [00:47<00:00, 44.78it/s]\n",
      "100%|██████████| 527/527 [00:11<00:00, 45.99it/s]\n",
      "100%|██████████| 2106/2106 [00:46<00:00, 44.87it/s]\n",
      "100%|██████████| 527/527 [00:11<00:00, 46.05it/s]\n",
      "100%|██████████| 2106/2106 [00:47<00:00, 44.35it/s]\n",
      "100%|██████████| 527/527 [00:11<00:00, 45.80it/s]\n",
      "100%|██████████| 2106/2106 [00:47<00:00, 44.65it/s]\n",
      "100%|██████████| 527/527 [00:11<00:00, 45.75it/s]\n"
     ]
    },
    {
     "name": "stdout",
     "output_type": "stream",
     "text": [
      "Training : Epoch: 21 / 21 Current loss: 1.026\n",
      "Validation : Epoch: 21 / 21 Current loss: 1.301505\n",
      "*************************emb_user: 500, emb_movie: 500 factor: 15*************************\n"
     ]
    },
    {
     "name": "stderr",
     "output_type": "stream",
     "text": [
      "100%|██████████| 2110/2110 [00:47<00:00, 44.36it/s]\n",
      "100%|██████████| 524/524 [00:11<00:00, 45.25it/s]\n"
     ]
    },
    {
     "name": "stdout",
     "output_type": "stream",
     "text": [
      "Training : Epoch: 1 / 21 Current loss: 27.050\n",
      "Validation : Epoch: 1 / 21 Current loss: 24.013874\n"
     ]
    },
    {
     "name": "stderr",
     "output_type": "stream",
     "text": [
      "100%|██████████| 2110/2110 [00:47<00:00, 44.35it/s]\n",
      "100%|██████████| 524/524 [00:11<00:00, 45.87it/s]\n",
      "100%|██████████| 2110/2110 [00:47<00:00, 44.62it/s]\n",
      "100%|██████████| 524/524 [00:11<00:00, 45.69it/s]\n",
      "100%|██████████| 2110/2110 [00:47<00:00, 44.64it/s]\n",
      "100%|██████████| 524/524 [00:11<00:00, 45.72it/s]\n",
      "100%|██████████| 2110/2110 [00:47<00:00, 44.59it/s]\n",
      "100%|██████████| 524/524 [00:11<00:00, 45.97it/s]\n",
      "100%|██████████| 2110/2110 [00:47<00:00, 44.55it/s]\n",
      "100%|██████████| 524/524 [00:11<00:00, 45.67it/s]\n"
     ]
    },
    {
     "name": "stdout",
     "output_type": "stream",
     "text": [
      "Training : Epoch: 6 / 21 Current loss: 10.904\n",
      "Validation : Epoch: 6 / 21 Current loss: 12.387405\n"
     ]
    },
    {
     "name": "stderr",
     "output_type": "stream",
     "text": [
      "100%|██████████| 2110/2110 [00:47<00:00, 44.50it/s]\n",
      "100%|██████████| 524/524 [00:11<00:00, 45.90it/s]\n",
      "100%|██████████| 2110/2110 [00:47<00:00, 44.76it/s]\n",
      "100%|██████████| 524/524 [00:11<00:00, 45.94it/s]\n",
      "100%|██████████| 2110/2110 [00:47<00:00, 44.59it/s]\n",
      "100%|██████████| 524/524 [00:11<00:00, 45.26it/s]\n",
      "100%|██████████| 2110/2110 [00:47<00:00, 44.15it/s]\n",
      "100%|██████████| 524/524 [00:11<00:00, 45.14it/s]\n",
      "100%|██████████| 2110/2110 [00:48<00:00, 43.59it/s]\n",
      "100%|██████████| 524/524 [00:11<00:00, 44.14it/s]\n"
     ]
    },
    {
     "name": "stdout",
     "output_type": "stream",
     "text": [
      "Training : Epoch: 11 / 21 Current loss: 3.277\n",
      "Validation : Epoch: 11 / 21 Current loss: 5.035313\n"
     ]
    },
    {
     "name": "stderr",
     "output_type": "stream",
     "text": [
      "100%|██████████| 2110/2110 [00:48<00:00, 43.65it/s]\n",
      "100%|██████████| 524/524 [00:11<00:00, 44.53it/s]\n",
      "100%|██████████| 2110/2110 [00:47<00:00, 44.29it/s]\n",
      "100%|██████████| 524/524 [00:11<00:00, 44.77it/s]\n",
      "100%|██████████| 2110/2110 [00:47<00:00, 44.13it/s]\n",
      "100%|██████████| 524/524 [00:12<00:00, 42.75it/s]\n",
      "100%|██████████| 2110/2110 [00:49<00:00, 42.65it/s]\n",
      "100%|██████████| 524/524 [00:11<00:00, 44.51it/s]\n",
      "100%|██████████| 2110/2110 [00:50<00:00, 41.70it/s]\n",
      "100%|██████████| 524/524 [00:13<00:00, 38.42it/s]\n"
     ]
    },
    {
     "name": "stdout",
     "output_type": "stream",
     "text": [
      "Training : Epoch: 16 / 21 Current loss: 1.683\n",
      "Validation : Epoch: 16 / 21 Current loss: 3.222327\n"
     ]
    },
    {
     "name": "stderr",
     "output_type": "stream",
     "text": [
      "100%|██████████| 2110/2110 [00:57<00:00, 36.54it/s]\n",
      "100%|██████████| 524/524 [00:13<00:00, 40.20it/s]\n",
      "100%|██████████| 2110/2110 [00:49<00:00, 42.51it/s]\n",
      "100%|██████████| 524/524 [00:11<00:00, 45.11it/s]\n",
      "100%|██████████| 2110/2110 [00:48<00:00, 43.55it/s]\n",
      "100%|██████████| 524/524 [00:11<00:00, 44.35it/s]\n",
      "100%|██████████| 2110/2110 [00:50<00:00, 41.48it/s]\n",
      "100%|██████████| 524/524 [00:12<00:00, 41.00it/s]\n",
      "100%|██████████| 2110/2110 [00:51<00:00, 41.33it/s]\n",
      "100%|██████████| 524/524 [00:11<00:00, 45.16it/s]\n"
     ]
    },
    {
     "name": "stdout",
     "output_type": "stream",
     "text": [
      "Training : Epoch: 21 / 21 Current loss: 1.187\n",
      "Validation : Epoch: 21 / 21 Current loss: 2.545661\n",
      "*************************emb_user: 610, emb_movie: 9724 factor: 5*************************\n"
     ]
    },
    {
     "name": "stderr",
     "output_type": "stream",
     "text": [
      "100%|██████████| 5038/5038 [01:57<00:00, 43.06it/s]\n",
      "100%|██████████| 1265/1265 [00:27<00:00, 45.35it/s]\n"
     ]
    },
    {
     "name": "stdout",
     "output_type": "stream",
     "text": [
      "Training : Epoch: 1 / 21 Current loss: 16.940\n",
      "Validation : Epoch: 1 / 21 Current loss: 15.503139\n"
     ]
    },
    {
     "name": "stderr",
     "output_type": "stream",
     "text": [
      "100%|██████████| 5038/5038 [01:55<00:00, 43.72it/s]\n",
      "100%|██████████| 1265/1265 [00:27<00:00, 45.62it/s]\n",
      "100%|██████████| 5038/5038 [01:54<00:00, 43.87it/s]\n",
      "100%|██████████| 1265/1265 [00:27<00:00, 45.66it/s]\n",
      "100%|██████████| 5038/5038 [02:17<00:00, 36.74it/s]\n",
      "100%|██████████| 1265/1265 [00:34<00:00, 36.40it/s]\n",
      "100%|██████████| 5038/5038 [02:51<00:00, 29.33it/s]\n",
      "100%|██████████| 1265/1265 [00:39<00:00, 32.10it/s]\n",
      "100%|██████████| 5038/5038 [02:36<00:00, 32.26it/s]\n",
      "100%|██████████| 1265/1265 [00:35<00:00, 35.54it/s]\n"
     ]
    },
    {
     "name": "stdout",
     "output_type": "stream",
     "text": [
      "Training : Epoch: 6 / 21 Current loss: 13.283\n",
      "Validation : Epoch: 6 / 21 Current loss: 13.565064\n"
     ]
    },
    {
     "name": "stderr",
     "output_type": "stream",
     "text": [
      "100%|██████████| 5038/5038 [02:21<00:00, 35.49it/s]\n",
      "100%|██████████| 1265/1265 [00:33<00:00, 38.15it/s]\n",
      "100%|██████████| 5038/5038 [02:17<00:00, 36.57it/s]\n",
      "100%|██████████| 1265/1265 [00:33<00:00, 38.25it/s]\n",
      "100%|██████████| 5038/5038 [02:13<00:00, 37.69it/s]\n",
      "100%|██████████| 1265/1265 [00:32<00:00, 39.50it/s]\n",
      "100%|██████████| 5038/5038 [02:18<00:00, 36.29it/s]\n",
      "100%|██████████| 1265/1265 [00:35<00:00, 36.00it/s]\n",
      "100%|██████████| 5038/5038 [02:21<00:00, 35.58it/s]\n",
      "100%|██████████| 1265/1265 [00:32<00:00, 39.20it/s]\n"
     ]
    },
    {
     "name": "stdout",
     "output_type": "stream",
     "text": [
      "Training : Epoch: 11 / 21 Current loss: 9.470\n",
      "Validation : Epoch: 11 / 21 Current loss: 9.567783\n"
     ]
    },
    {
     "name": "stderr",
     "output_type": "stream",
     "text": [
      "100%|██████████| 5038/5038 [02:17<00:00, 36.53it/s]\n",
      "100%|██████████| 1265/1265 [00:33<00:00, 37.48it/s]\n",
      "100%|██████████| 5038/5038 [02:17<00:00, 36.61it/s]\n",
      "100%|██████████| 1265/1265 [00:31<00:00, 39.89it/s]\n",
      "100%|██████████| 5038/5038 [02:19<00:00, 36.13it/s]\n",
      "100%|██████████| 1265/1265 [00:33<00:00, 37.87it/s]\n",
      "100%|██████████| 5038/5038 [02:12<00:00, 37.90it/s]\n",
      "100%|██████████| 1265/1265 [00:28<00:00, 44.46it/s]\n",
      "100%|██████████| 5038/5038 [01:57<00:00, 42.78it/s]\n",
      "100%|██████████| 1265/1265 [00:28<00:00, 44.27it/s]\n"
     ]
    },
    {
     "name": "stdout",
     "output_type": "stream",
     "text": [
      "Training : Epoch: 16 / 21 Current loss: 5.565\n",
      "Validation : Epoch: 16 / 21 Current loss: 5.982702\n"
     ]
    },
    {
     "name": "stderr",
     "output_type": "stream",
     "text": [
      "100%|██████████| 5038/5038 [02:00<00:00, 41.85it/s]\n",
      "100%|██████████| 1265/1265 [00:27<00:00, 45.82it/s]\n",
      "100%|██████████| 5038/5038 [01:57<00:00, 42.99it/s]\n",
      "100%|██████████| 1265/1265 [00:29<00:00, 42.86it/s]\n",
      "100%|██████████| 5038/5038 [02:03<00:00, 40.94it/s]\n",
      "100%|██████████| 1265/1265 [00:27<00:00, 46.07it/s]\n",
      "100%|██████████| 5038/5038 [01:55<00:00, 43.55it/s]\n",
      "100%|██████████| 1265/1265 [00:27<00:00, 45.93it/s]\n",
      "100%|██████████| 5038/5038 [01:54<00:00, 43.90it/s]\n",
      "100%|██████████| 1265/1265 [00:27<00:00, 46.24it/s]\n"
     ]
    },
    {
     "name": "stdout",
     "output_type": "stream",
     "text": [
      "Training : Epoch: 21 / 21 Current loss: 3.871\n",
      "Validation : Epoch: 21 / 21 Current loss: 4.404381\n",
      "*************************emb_user: 610, emb_movie: 9724 factor: 15*************************\n"
     ]
    },
    {
     "name": "stderr",
     "output_type": "stream",
     "text": [
      "100%|██████████| 5050/5050 [01:56<00:00, 43.32it/s]\n",
      "100%|██████████| 1253/1253 [00:27<00:00, 45.47it/s]\n"
     ]
    },
    {
     "name": "stdout",
     "output_type": "stream",
     "text": [
      "Training : Epoch: 1 / 21 Current loss: 22.856\n",
      "Validation : Epoch: 1 / 21 Current loss: 19.560665\n"
     ]
    },
    {
     "name": "stderr",
     "output_type": "stream",
     "text": [
      "100%|██████████| 5050/5050 [01:57<00:00, 42.97it/s]\n",
      "100%|██████████| 1253/1253 [00:27<00:00, 45.36it/s]\n",
      "100%|██████████| 5050/5050 [01:56<00:00, 43.30it/s]\n",
      "100%|██████████| 1253/1253 [00:27<00:00, 45.52it/s]\n",
      "100%|██████████| 5050/5050 [01:58<00:00, 42.76it/s]\n",
      "100%|██████████| 1253/1253 [00:27<00:00, 44.97it/s]\n",
      "100%|██████████| 5050/5050 [01:56<00:00, 43.19it/s]\n",
      "100%|██████████| 1253/1253 [00:27<00:00, 45.36it/s]\n",
      "100%|██████████| 5050/5050 [01:57<00:00, 42.96it/s]\n",
      "100%|██████████| 1253/1253 [00:27<00:00, 45.08it/s]\n"
     ]
    },
    {
     "name": "stdout",
     "output_type": "stream",
     "text": [
      "Training : Epoch: 6 / 21 Current loss: 12.615\n",
      "Validation : Epoch: 6 / 21 Current loss: 14.135685\n"
     ]
    },
    {
     "name": "stderr",
     "output_type": "stream",
     "text": [
      "100%|██████████| 5050/5050 [01:57<00:00, 43.04it/s]\n",
      "100%|██████████| 1253/1253 [00:27<00:00, 45.34it/s]\n",
      "100%|██████████| 5050/5050 [01:57<00:00, 43.04it/s]\n",
      "100%|██████████| 1253/1253 [00:27<00:00, 45.36it/s]\n",
      "100%|██████████| 5050/5050 [01:56<00:00, 43.19it/s]\n",
      "100%|██████████| 1253/1253 [00:27<00:00, 45.43it/s]\n",
      "100%|██████████| 5050/5050 [01:57<00:00, 43.03it/s]\n",
      "100%|██████████| 1253/1253 [00:27<00:00, 45.46it/s]\n",
      "100%|██████████| 5050/5050 [01:56<00:00, 43.36it/s]\n",
      "100%|██████████| 1253/1253 [00:27<00:00, 45.04it/s]\n"
     ]
    },
    {
     "name": "stdout",
     "output_type": "stream",
     "text": [
      "Training : Epoch: 11 / 21 Current loss: 7.361\n",
      "Validation : Epoch: 11 / 21 Current loss: 9.018228\n"
     ]
    },
    {
     "name": "stderr",
     "output_type": "stream",
     "text": [
      "100%|██████████| 5050/5050 [01:56<00:00, 43.37it/s]\n",
      "100%|██████████| 1253/1253 [00:27<00:00, 45.60it/s]\n",
      "100%|██████████| 5050/5050 [01:56<00:00, 43.24it/s]\n",
      "100%|██████████| 1253/1253 [00:27<00:00, 45.71it/s]\n",
      "100%|██████████| 5050/5050 [01:56<00:00, 43.31it/s]\n",
      "100%|██████████| 1253/1253 [00:27<00:00, 45.62it/s]\n",
      "100%|██████████| 5050/5050 [01:56<00:00, 43.24it/s]\n",
      "100%|██████████| 1253/1253 [00:27<00:00, 45.59it/s]\n",
      "100%|██████████| 5050/5050 [01:56<00:00, 43.38it/s]\n",
      "100%|██████████| 1253/1253 [00:27<00:00, 45.20it/s]\n"
     ]
    },
    {
     "name": "stdout",
     "output_type": "stream",
     "text": [
      "Training : Epoch: 16 / 21 Current loss: 4.654\n",
      "Validation : Epoch: 16 / 21 Current loss: 6.334814\n"
     ]
    },
    {
     "name": "stderr",
     "output_type": "stream",
     "text": [
      "100%|██████████| 5050/5050 [01:57<00:00, 43.02it/s]\n",
      "100%|██████████| 1253/1253 [00:27<00:00, 45.01it/s]\n",
      "100%|██████████| 5050/5050 [01:57<00:00, 43.02it/s]\n",
      "100%|██████████| 1253/1253 [00:27<00:00, 45.52it/s]\n",
      "100%|██████████| 5050/5050 [01:56<00:00, 43.26it/s]\n",
      "100%|██████████| 1253/1253 [00:27<00:00, 45.40it/s]\n",
      "100%|██████████| 5050/5050 [01:56<00:00, 43.24it/s]\n",
      "100%|██████████| 1253/1253 [00:27<00:00, 45.72it/s]\n",
      "100%|██████████| 5050/5050 [01:56<00:00, 43.45it/s]\n",
      "100%|██████████| 1253/1253 [00:27<00:00, 45.62it/s]\n"
     ]
    },
    {
     "name": "stdout",
     "output_type": "stream",
     "text": [
      "Training : Epoch: 21 / 21 Current loss: 3.403\n",
      "Validation : Epoch: 21 / 21 Current loss: 5.040884\n"
     ]
    },
    {
     "data": {
      "image/png": "[encoded data removed]",
      "text/plain": [
       "<Figure size 1200x1000 with 10 Axes>"
      ]
     },
     "metadata": {},
     "output_type": "display_data"
    }
   ],
   "source": [
    "epochs = 21\n",
    "device = ('cuda' if torch.cuda.is_available() else 'cpu')\n",
    "\n",
    "criterion = torch.nn.MSELoss()\n",
    "\n",
    "different_ens_sizes = [[50,50], [150,150], [250,250], \n",
    "                       [500,500], [n_of_unique_users, n_of_unique_movies]]\n",
    "\n",
    "n_factors = [5, 15]\n",
    "\n",
    "fig, ax = plt.subplots(len(different_ens_sizes), len(n_factors), figsize=(12,10))\n",
    "fig.tight_layout(pad=3.0)\n",
    "\n",
    "i = 0\n",
    "for emb_user, emb_movie in different_ens_sizes:\n",
    "    for factor in n_factors:\n",
    "        print('*' * 25 + f'emb_user: {emb_user}, emb_movie: {emb_movie}'\n",
    "              f' factor: {factor}' + '*' * 25)\n",
    "        train_dataloader, val_dataloader = create_dataloaders(split_size=0.8,n_users=emb_user, n_movies=emb_movie)\n",
    "        train_losses = []\n",
    "        val_losses = []\n",
    "        model = Model(emb_user, emb_movie, factor)\n",
    "        model.to(device)\n",
    "        opt = torch.optim.SGD(model.parameters(), lr=1e-2)\n",
    "        \n",
    "        for epoch in range(epochs):\n",
    "\n",
    "            model, training_loss = train(model, train_dataloader, criterion, opt, epoch, epochs)\n",
    "            val_loss = validate(model, val_dataloader, criterion, opt, epoch, epochs)\n",
    "            train_losses.append(training_loss)\n",
    "            val_losses.append(val_loss)\n",
    "            if epoch % 5 == 0:\n",
    "                print(f'Training : Epoch: {epoch + 1} / {epochs}' \n",
    "                      f' Current loss: {train_losses[epoch]:.3f}')\n",
    "                print(f'Validation : Epoch: {epoch + 1} / {epochs}' \n",
    "                      f' Current loss: {val_losses[epoch]:3f}')\n",
    "\n",
    "        plot_results(train_losses, val_losses, i, ax, emb_user, emb_movie, factor)\n",
    "        i += 1\n",
    "plt.show()"
   ]
  },
  {
   "cell_type": "code",
   "execution_count": null,
   "id": "212bea7a",
   "metadata": {
    "papermill": {
     "duration": 6.700508,
     "end_time": "2023-04-22T09:54:50.114703",
     "exception": false,
     "start_time": "2023-04-22T09:54:43.414195",
     "status": "completed"
    },
    "tags": []
   },
   "outputs": [],
   "source": []
  },
  {
   "cell_type": "markdown",
   "id": "51290399",
   "metadata": {
    "papermill": {
     "duration": 6.497547,
     "end_time": "2023-04-22T09:55:02.976312",
     "exception": false,
     "start_time": "2023-04-22T09:54:56.478765",
     "status": "completed"
    },
    "tags": []
   },
   "source": [
    "Trainging one model to test predictions of movies based on cosine similariity of their embeddings"
   ]
  },
  {
   "cell_type": "code",
   "execution_count": 15,
   "id": "c4bed061",
   "metadata": {
    "execution": {
     "iopub.execute_input": "2023-04-22T09:55:16.007779Z",
     "iopub.status.busy": "2023-04-22T09:55:16.007391Z",
     "iopub.status.idle": "2023-04-22T09:55:44.089346Z",
     "shell.execute_reply": "2023-04-22T09:55:44.088201Z"
    },
    "papermill": {
     "duration": 34.634122,
     "end_time": "2023-04-22T09:55:44.091713",
     "exception": false,
     "start_time": "2023-04-22T09:55:09.457591",
     "status": "completed"
    },
    "tags": []
   },
   "outputs": [
    {
     "name": "stdout",
     "output_type": "stream",
     "text": [
      "--------------------------------------------------\n"
     ]
    },
    {
     "name": "stderr",
     "output_type": "stream",
     "text": [
      "100%|██████████| 103/103 [00:02<00:00, 45.19it/s]\n"
     ]
    },
    {
     "name": "stdout",
     "output_type": "stream",
     "text": [
      "Training : Epoch: 1 / 10 Current loss: 20.019550\n"
     ]
    },
    {
     "name": "stderr",
     "output_type": "stream",
     "text": [
      "100%|██████████| 24/24 [00:00<00:00, 45.47it/s]\n"
     ]
    },
    {
     "name": "stdout",
     "output_type": "stream",
     "text": [
      "Validation : Epoch: 1 / 10 Current loss: 18.419439\n"
     ]
    },
    {
     "name": "stderr",
     "output_type": "stream",
     "text": [
      "100%|██████████| 103/103 [00:02<00:00, 45.30it/s]\n"
     ]
    },
    {
     "name": "stdout",
     "output_type": "stream",
     "text": [
      "Training : Epoch: 2 / 10 Current loss: 18.992243\n"
     ]
    },
    {
     "name": "stderr",
     "output_type": "stream",
     "text": [
      "100%|██████████| 24/24 [00:00<00:00, 45.98it/s]\n"
     ]
    },
    {
     "name": "stdout",
     "output_type": "stream",
     "text": [
      "Validation : Epoch: 2 / 10 Current loss: 17.721842\n"
     ]
    },
    {
     "name": "stderr",
     "output_type": "stream",
     "text": [
      "100%|██████████| 103/103 [00:02<00:00, 44.64it/s]\n"
     ]
    },
    {
     "name": "stdout",
     "output_type": "stream",
     "text": [
      "Training : Epoch: 3 / 10 Current loss: 18.199734\n"
     ]
    },
    {
     "name": "stderr",
     "output_type": "stream",
     "text": [
      "100%|██████████| 24/24 [00:00<00:00, 46.32it/s]\n"
     ]
    },
    {
     "name": "stdout",
     "output_type": "stream",
     "text": [
      "Validation : Epoch: 3 / 10 Current loss: 17.171991\n"
     ]
    },
    {
     "name": "stderr",
     "output_type": "stream",
     "text": [
      "100%|██████████| 103/103 [00:02<00:00, 45.70it/s]\n"
     ]
    },
    {
     "name": "stdout",
     "output_type": "stream",
     "text": [
      "Training : Epoch: 4 / 10 Current loss: 17.553274\n"
     ]
    },
    {
     "name": "stderr",
     "output_type": "stream",
     "text": [
      "100%|██████████| 24/24 [00:00<00:00, 46.44it/s]\n"
     ]
    },
    {
     "name": "stdout",
     "output_type": "stream",
     "text": [
      "Validation : Epoch: 4 / 10 Current loss: 16.709862\n"
     ]
    },
    {
     "name": "stderr",
     "output_type": "stream",
     "text": [
      "100%|██████████| 103/103 [00:02<00:00, 45.73it/s]\n"
     ]
    },
    {
     "name": "stdout",
     "output_type": "stream",
     "text": [
      "Training : Epoch: 5 / 10 Current loss: 16.995333\n"
     ]
    },
    {
     "name": "stderr",
     "output_type": "stream",
     "text": [
      "100%|██████████| 24/24 [00:00<00:00, 45.81it/s]\n"
     ]
    },
    {
     "name": "stdout",
     "output_type": "stream",
     "text": [
      "Validation : Epoch: 5 / 10 Current loss: 16.293995\n"
     ]
    },
    {
     "name": "stderr",
     "output_type": "stream",
     "text": [
      "100%|██████████| 103/103 [00:02<00:00, 44.86it/s]\n"
     ]
    },
    {
     "name": "stdout",
     "output_type": "stream",
     "text": [
      "Training : Epoch: 6 / 10 Current loss: 16.485203\n"
     ]
    },
    {
     "name": "stderr",
     "output_type": "stream",
     "text": [
      "100%|██████████| 24/24 [00:00<00:00, 46.43it/s]\n"
     ]
    },
    {
     "name": "stdout",
     "output_type": "stream",
     "text": [
      "Validation : Epoch: 6 / 10 Current loss: 15.892918\n"
     ]
    },
    {
     "name": "stderr",
     "output_type": "stream",
     "text": [
      "100%|██████████| 103/103 [00:02<00:00, 45.22it/s]\n"
     ]
    },
    {
     "name": "stdout",
     "output_type": "stream",
     "text": [
      "Training : Epoch: 7 / 10 Current loss: 15.991432\n"
     ]
    },
    {
     "name": "stderr",
     "output_type": "stream",
     "text": [
      "100%|██████████| 24/24 [00:00<00:00, 46.50it/s]\n"
     ]
    },
    {
     "name": "stdout",
     "output_type": "stream",
     "text": [
      "Validation : Epoch: 7 / 10 Current loss: 15.480401\n"
     ]
    },
    {
     "name": "stderr",
     "output_type": "stream",
     "text": [
      "100%|██████████| 103/103 [00:02<00:00, 45.30it/s]\n"
     ]
    },
    {
     "name": "stdout",
     "output_type": "stream",
     "text": [
      "Training : Epoch: 8 / 10 Current loss: 15.487609\n"
     ]
    },
    {
     "name": "stderr",
     "output_type": "stream",
     "text": [
      "100%|██████████| 24/24 [00:00<00:00, 46.04it/s]\n"
     ]
    },
    {
     "name": "stdout",
     "output_type": "stream",
     "text": [
      "Validation : Epoch: 8 / 10 Current loss: 15.032837\n"
     ]
    },
    {
     "name": "stderr",
     "output_type": "stream",
     "text": [
      "100%|██████████| 103/103 [00:02<00:00, 45.38it/s]\n"
     ]
    },
    {
     "name": "stdout",
     "output_type": "stream",
     "text": [
      "Training : Epoch: 9 / 10 Current loss: 14.950108\n"
     ]
    },
    {
     "name": "stderr",
     "output_type": "stream",
     "text": [
      "100%|██████████| 24/24 [00:00<00:00, 46.26it/s]\n"
     ]
    },
    {
     "name": "stdout",
     "output_type": "stream",
     "text": [
      "Validation : Epoch: 9 / 10 Current loss: 14.528018\n"
     ]
    },
    {
     "name": "stderr",
     "output_type": "stream",
     "text": [
      "100%|██████████| 103/103 [00:02<00:00, 45.39it/s]\n"
     ]
    },
    {
     "name": "stdout",
     "output_type": "stream",
     "text": [
      "Training : Epoch: 10 / 10 Current loss: 14.357172\n"
     ]
    },
    {
     "name": "stderr",
     "output_type": "stream",
     "text": [
      "100%|██████████| 24/24 [00:00<00:00, 46.24it/s]"
     ]
    },
    {
     "name": "stdout",
     "output_type": "stream",
     "text": [
      "Validation : Epoch: 10 / 10 Current loss: 13.945053\n",
      "--------------------------------------------------\n"
     ]
    },
    {
     "name": "stderr",
     "output_type": "stream",
     "text": [
      "\n"
     ]
    }
   ],
   "source": [
    "emb_user ,emb_movie, factor = 50, 50, 5\n",
    "\n",
    "epochs = 10\n",
    "train_losses = []\n",
    "val_losses = []\n",
    "train_dataloader, val_dataloader = create_dataloaders(split_size=0.8,n_users=emb_user, n_movies=emb_movie)\n",
    "train_losses = []\n",
    "val_losses = []\n",
    "model = Model(emb_user, emb_movie, factor)\n",
    "model.to(device)\n",
    "opt = torch.optim.SGD(model.parameters(), lr=1e-2)\n",
    "\n",
    "print('-' * 50)\n",
    "for epoch in range(epochs):\n",
    "    model, training_loss = train(model, train_dataloader, criterion, opt, epoch, epochs, True)\n",
    "    val_loss = validate(model, test_dataloader, criterion, opt, epoch, epochs, True)\n",
    "    train_losses.append(training_loss)\n",
    "    val_losses.append(val_loss)\n",
    "    \n",
    "print('-' * 50)"
   ]
  },
  {
   "cell_type": "code",
   "execution_count": 16,
   "id": "2ed55b47",
   "metadata": {
    "execution": {
     "iopub.execute_input": "2023-04-22T09:55:57.208116Z",
     "iopub.status.busy": "2023-04-22T09:55:57.207684Z",
     "iopub.status.idle": "2023-04-22T09:55:57.458549Z",
     "shell.execute_reply": "2023-04-22T09:55:57.457298Z"
    },
    "papermill": {
     "duration": 6.762526,
     "end_time": "2023-04-22T09:55:57.461137",
     "exception": false,
     "start_time": "2023-04-22T09:55:50.698611",
     "status": "completed"
    },
    "tags": []
   },
   "outputs": [
    {
     "data": {
      "image/png": "[encoded data removed]",
      "text/plain": [
       "<Figure size 1000x600 with 1 Axes>"
      ]
     },
     "metadata": {},
     "output_type": "display_data"
    }
   ],
   "source": [
    "plt.figure(figsize=(10, 6))\n",
    "plt.title('Loss plot')\n",
    "plt.plot(train_losses, label='train loss')\n",
    "plt.plot(val_losses, label='val loss')\n",
    "plt.xlabel('Epochs')\n",
    "plt.ylabel('MSE')\n",
    "plt.legend()\n",
    "plt.show()"
   ]
  },
  {
   "cell_type": "code",
   "execution_count": 17,
   "id": "f17101f6",
   "metadata": {
    "execution": {
     "iopub.execute_input": "2023-04-22T09:56:10.669530Z",
     "iopub.status.busy": "2023-04-22T09:56:10.669109Z",
     "iopub.status.idle": "2023-04-22T09:56:10.677470Z",
     "shell.execute_reply": "2023-04-22T09:56:10.676233Z"
    },
    "papermill": {
     "duration": 6.70811,
     "end_time": "2023-04-22T09:56:10.679988",
     "exception": false,
     "start_time": "2023-04-22T09:56:03.971878",
     "status": "completed"
    },
    "tags": []
   },
   "outputs": [],
   "source": [
    "def predict_movies(embedding, idx, movies_df, n_movies):\n",
    "    \n",
    "    all_embedings = model.movies(torch.arange(0, n_movies)).tolist()\n",
    "    index = (model.movies(torch.tensor([idx])).detach().numpy())\n",
    "\n",
    "    similarity = cosine_similarity(index, all_embedings)[0]  \n",
    "\n",
    "    top = np.where(similarity > 0.7)[0]\n",
    "    top = np.delete(top, np.where(top == idx))\n",
    "    \n",
    "    scores = similarity[top]\n",
    "\n",
    "    embedding_id = [inv_movie_set[result] for result in top]\n",
    "    titles = movies.loc[movies['movieId'].isin(embedding_id)]\n",
    "    result_df = titles[['movieId','title']]\n",
    "    result_df['score'] = scores\n",
    "    result_df.sort_values(by='score', ascending=False, inplace=True)\n",
    "        \n",
    "    return similarity, result_df"
   ]
  },
  {
   "cell_type": "code",
   "execution_count": 18,
   "id": "d5b9827f",
   "metadata": {
    "execution": {
     "iopub.execute_input": "2023-04-22T09:56:23.649666Z",
     "iopub.status.busy": "2023-04-22T09:56:23.649256Z",
     "iopub.status.idle": "2023-04-22T09:56:23.668472Z",
     "shell.execute_reply": "2023-04-22T09:56:23.667453Z"
    },
    "papermill": {
     "duration": 6.560442,
     "end_time": "2023-04-22T09:56:23.670696",
     "exception": false,
     "start_time": "2023-04-22T09:56:17.110254",
     "status": "completed"
    },
    "tags": []
   },
   "outputs": [
    {
     "data": {
      "text/html": [
       "<div>\n",
       "<style scoped>\n",
       "    .dataframe tbody tr th:only-of-type {\n",
       "        vertical-align: middle;\n",
       "    }\n",
       "\n",
       "    .dataframe tbody tr th {\n",
       "        vertical-align: top;\n",
       "    }\n",
       "\n",
       "    .dataframe thead th {\n",
       "        text-align: right;\n",
       "    }\n",
       "</style>\n",
       "<table border=\"1\" class=\"dataframe\">\n",
       "  <thead>\n",
       "    <tr style=\"text-align: right;\">\n",
       "      <th></th>\n",
       "      <th>movieId</th>\n",
       "      <th>title</th>\n",
       "      <th>score</th>\n",
       "    </tr>\n",
       "  </thead>\n",
       "  <tbody>\n",
       "    <tr>\n",
       "      <th>2836</th>\n",
       "      <td>3793</td>\n",
       "      <td>X-Men (2000)</td>\n",
       "      <td>0.873699</td>\n",
       "    </tr>\n",
       "    <tr>\n",
       "      <th>1267</th>\n",
       "      <td>1682</td>\n",
       "      <td>Truman Show, The (1998)</td>\n",
       "      <td>0.833317</td>\n",
       "    </tr>\n",
       "    <tr>\n",
       "      <th>510</th>\n",
       "      <td>593</td>\n",
       "      <td>Silence of the Lambs, The (1991)</td>\n",
       "      <td>0.826678</td>\n",
       "    </tr>\n",
       "    <tr>\n",
       "      <th>4615</th>\n",
       "      <td>6874</td>\n",
       "      <td>Kill Bill: Vol. 1 (2003)</td>\n",
       "      <td>0.731933</td>\n",
       "    </tr>\n",
       "  </tbody>\n",
       "</table>\n",
       "</div>"
      ],
      "text/plain": [
       "      movieId                             title     score\n",
       "2836     3793                      X-Men (2000)  0.873699\n",
       "1267     1682           Truman Show, The (1998)  0.833317\n",
       "510       593  Silence of the Lambs, The (1991)  0.826678\n",
       "4615     6874          Kill Bill: Vol. 1 (2003)  0.731933"
      ]
     },
     "execution_count": 18,
     "metadata": {},
     "output_type": "execute_result"
    }
   ],
   "source": [
    "similarity, results_df = predict_movies('movie', 3, movies, emb_movie)\n",
    "results_df"
   ]
  },
  {
   "cell_type": "code",
   "execution_count": null,
   "id": "0f6c2924",
   "metadata": {
    "papermill": {
     "duration": 6.49342,
     "end_time": "2023-04-22T09:56:36.666081",
     "exception": false,
     "start_time": "2023-04-22T09:56:30.172661",
     "status": "completed"
    },
    "tags": []
   },
   "outputs": [],
   "source": []
  },
  {
   "cell_type": "code",
   "execution_count": null,
   "id": "801ba99c",
   "metadata": {
    "papermill": {
     "duration": 6.553317,
     "end_time": "2023-04-22T09:56:49.784122",
     "exception": false,
     "start_time": "2023-04-22T09:56:43.230805",
     "status": "completed"
    },
    "tags": []
   },
   "outputs": [],
   "source": []
  }
 ],
 "metadata": {
  "kernelspec": {
   "display_name": "Python 3",
   "language": "python",
   "name": "python3"
  },
  "language_info": {
   "codemirror_mode": {
    "name": "ipython",
    "version": 3
   },
   "file_extension": ".py",
   "mimetype": "text/x-python",
   "name": "python",
   "nbconvert_exporter": "python",
   "pygments_lexer": "ipython3",
   "version": "3.7.12"
  },
  "papermill": {
   "default_parameters": {},
   "duration": 11224.183585,
   "end_time": "2023-04-22T09:56:57.598586",
   "environment_variables": {},
   "exception": null,
   "input_path": "__notebook__.ipynb",
   "output_path": "__notebook__.ipynb",
   "parameters": {},
   "start_time": "2023-04-22T06:49:53.415001",
   "version": "2.4.0"
  }
 },
 "nbformat": 4,
 "nbformat_minor": 5
}
