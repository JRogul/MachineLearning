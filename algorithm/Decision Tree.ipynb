{
 "cells": [
  {
   "cell_type": "code",
   "execution_count": 1,
   "id": "36d68994",
   "metadata": {},
   "outputs": [],
   "source": [
    "import pandas as pd\n",
    "import numpy as np"
   ]
  },
  {
   "cell_type": "code",
   "execution_count": 2,
   "id": "1f1c7438",
   "metadata": {},
   "outputs": [],
   "source": [
    "df = pd.DataFrame({'Loves Popcorn': ['Yes', 'Yes', 'No', 'No',\n",
    "                                'Yes', 'Yes', 'No'],\n",
    "             'Loves Soda' : ['Yes', 'No', 'Yes', 'Yes',\n",
    "                           'Yes', 'No', 'No'],\n",
    "             'Age' : [7, 12, 18, 35, 38, 50, 83],\n",
    "             'Loves Cool As Ice' : ['No', 'No', 'Yes', 'Yes',\n",
    "                                    'Yes', 'No', 'No']})"
   ]
  },
  {
   "cell_type": "code",
   "execution_count": 3,
   "id": "42b05f80",
   "metadata": {},
   "outputs": [],
   "source": [
    "#replace categorical columns into numerical\n",
    "for col in df.columns:\n",
    "    if df[col].dtype == 'object':\n",
    "        #df[col].replace(df[col].unique().tolist(), range(0, len(df[col].unique())), inplace=True)\n",
    "        df[col].replace(['No', 'Yes'], range(0, 2), inplace=True)"
   ]
  },
  {
   "cell_type": "code",
   "execution_count": 4,
   "id": "8c6b6bf0",
   "metadata": {
    "scrolled": true
   },
   "outputs": [
    {
     "name": "stdout",
     "output_type": "stream",
     "text": [
      "   Loves Popcorn  Loves Soda  Age  Loves Cool As Ice\n",
      "0              1           1    7                  0\n",
      "1              1           0   12                  0\n",
      "2              0           1   18                  1\n",
      "3              0           1   35                  1\n",
      "4              1           1   38                  1\n",
      "5              1           0   50                  0\n",
      "6              0           0   83                  0\n"
     ]
    }
   ],
   "source": [
    "print(df)"
   ]
  },
  {
   "cell_type": "code",
   "execution_count": 5,
   "id": "55a1eabd",
   "metadata": {},
   "outputs": [],
   "source": [
    "np_data = np.array(df)"
   ]
  },
  {
   "cell_type": "code",
   "execution_count": 32,
   "id": "9ed07bdd",
   "metadata": {},
   "outputs": [
    {
     "ename": "SyntaxError",
     "evalue": "invalid syntax (365115572.py, line 12)",
     "output_type": "error",
     "traceback": [
      "\u001b[1;36m  Cell \u001b[1;32mIn[32], line 12\u001b[1;36m\u001b[0m\n\u001b[1;33m    print(f'weighted_impurity' : {weighted_impurity:.3f})\u001b[0m\n\u001b[1;37m                               ^\u001b[0m\n\u001b[1;31mSyntaxError\u001b[0m\u001b[1;31m:\u001b[0m invalid syntax\n"
     ]
    }
   ],
   "source": [
    "gini_impurity = 0\n",
    "total_samples_in_leaf = len(np_data[:, 0])\n",
    "weighted_impurity = 0.0\n",
    "for target in np.unique(np_data[:, -1]):\n",
    "    yes =np.sum( (np_data[:, 0] == 0) & (np_data[:, -1] == target))\n",
    "    no = np.sum( (np_data[:, 0] == 1) & (np_data[:, -1] == target))\n",
    "    print(yes, no)\n",
    "    weighted_gini = (sum([yes, no]) /total_samples_in_leaf)\n",
    "    gini_impurity = 1 - (yes  / (yes + no))**2 - (no  / (yes + no))**2\n",
    "    print(gini_impurity)\n",
    "    weighted_impurity += gini_impurity* weighted_gini\n",
    "print(f'weighted_impurity' : {weighted_impurity:.3f})"
   ]
  },
  {
   "cell_type": "code",
   "execution_count": 25,
   "id": "bb57689c",
   "metadata": {},
   "outputs": [
    {
     "data": {
      "text/plain": [
       "[0.5714285714285714, 0.42857142857142855]"
      ]
     },
     "execution_count": 25,
     "metadata": {},
     "output_type": "execute_result"
    }
   ],
   "source": [
    "total_samples_in_leaf"
   ]
  },
  {
   "cell_type": "code",
   "execution_count": 24,
   "id": "b1b4dfd9",
   "metadata": {},
   "outputs": [
    {
     "data": {
      "text/plain": [
       "[0.375, 0.4444444444444445]"
      ]
     },
     "execution_count": 24,
     "metadata": {},
     "output_type": "execute_result"
    }
   ],
   "source": [
    "gini_impurity"
   ]
  },
  {
   "cell_type": "code",
   "execution_count": null,
   "id": "f218bbe3",
   "metadata": {},
   "outputs": [],
   "source": []
  }
 ],
 "metadata": {
  "kernelspec": {
   "display_name": "Python 3 (ipykernel)",
   "language": "python",
   "name": "python3"
  },
  "language_info": {
   "codemirror_mode": {
    "name": "ipython",
    "version": 3
   },
   "file_extension": ".py",
   "mimetype": "text/x-python",
   "name": "python",
   "nbconvert_exporter": "python",
   "pygments_lexer": "ipython3",
   "version": "3.9.12"
  }
 },
 "nbformat": 4,
 "nbformat_minor": 5
}
