{
 "cells": [
  {
   "cell_type": "code",
   "execution_count": 29,
   "id": "36d68994",
   "metadata": {},
   "outputs": [],
   "source": [
    "import pandas as pd\n",
    "import numpy as np"
   ]
  },
  {
   "cell_type": "code",
   "execution_count": 69,
   "id": "1f1c7438",
   "metadata": {},
   "outputs": [],
   "source": [
    "df = pd.DataFrame({'Loves Popcorn': ['Yes', 'Yes', 'No', 'No',\n",
    "                                'Yes', 'Yes', 'No'],\n",
    "             'Loves Soda' : ['Yes', 'No', 'Yes', 'Yes',\n",
    "                           'Yes', 'No', 'No'],\n",
    "             'Age' : [7, 12, 18, 35, 38, 50, 83],\n",
    "             'Loves Cool As Ice' : ['No', 'No', 'Yes', 'Yes',\n",
    "                                    'Yes', 'No', 'No']})"
   ]
  },
  {
   "cell_type": "code",
   "execution_count": 70,
   "id": "42b05f80",
   "metadata": {},
   "outputs": [],
   "source": [
    "#replace categorical columns into numerical\n",
    "for col in df.columns:\n",
    "    if df[col].dtype == 'object':\n",
    "        #df[col].replace(df[col].unique().tolist(), range(0, len(df[col].unique())), inplace=True)\n",
    "        df[col].replace(['No', 'Yes'], range(0, 2), inplace=True)"
   ]
  },
  {
   "cell_type": "code",
   "execution_count": 71,
   "id": "8c6b6bf0",
   "metadata": {
    "scrolled": true
   },
   "outputs": [
    {
     "name": "stdout",
     "output_type": "stream",
     "text": [
      "   Loves Popcorn  Loves Soda  Age  Loves Cool As Ice\n",
      "0              1           1    7                  0\n",
      "1              1           0   12                  0\n",
      "2              0           1   18                  1\n",
      "3              0           1   35                  1\n",
      "4              1           1   38                  1\n",
      "5              1           0   50                  0\n",
      "6              0           0   83                  0\n"
     ]
    }
   ],
   "source": [
    "print(df)"
   ]
  },
  {
   "cell_type": "code",
   "execution_count": 72,
   "id": "55a1eabd",
   "metadata": {},
   "outputs": [],
   "source": [
    "np_data = np.array(df)"
   ]
  },
  {
   "cell_type": "code",
   "execution_count": 82,
   "id": "9ed07bdd",
   "metadata": {},
   "outputs": [
    {
     "name": "stdout",
     "output_type": "stream",
     "text": [
      "1 3\n",
      "2 1\n"
     ]
    }
   ],
   "source": [
    "for target in np.unique(np_data[:, -1]):\n",
    "    print(np.sum( (np_data[:, 0] == 0) & (np_data[:, -1] == target)),\n",
    "         np.sum( (np_data[:, 0] == 1) & (np_data[:, -1] == target)))"
   ]
  },
  {
   "cell_type": "code",
   "execution_count": null,
   "id": "bb57689c",
   "metadata": {},
   "outputs": [],
   "source": []
  }
 ],
 "metadata": {
  "kernelspec": {
   "display_name": "Python 3 (ipykernel)",
   "language": "python",
   "name": "python3"
  },
  "language_info": {
   "codemirror_mode": {
    "name": "ipython",
    "version": 3
   },
   "file_extension": ".py",
   "mimetype": "text/x-python",
   "name": "python",
   "nbconvert_exporter": "python",
   "pygments_lexer": "ipython3",
   "version": "3.9.12"
  }
 },
 "nbformat": 4,
 "nbformat_minor": 5
}
