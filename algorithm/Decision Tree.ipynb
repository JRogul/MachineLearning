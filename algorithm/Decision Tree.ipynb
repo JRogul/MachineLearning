{
 "cells": [
  {
   "cell_type": "code",
   "execution_count": 29,
   "id": "d63dcf1c",
   "metadata": {},
   "outputs": [],
   "source": [
    "import pandas as pd\n",
    "import numpy as np"
   ]
  },
  {
   "cell_type": "code",
   "execution_count": 23,
   "id": "cf81b243",
   "metadata": {},
   "outputs": [],
   "source": [
    "df = pd.DataFrame({'Loves Popcorn': ['Yes', 'Yes', 'No', 'No',\n",
    "                                'Yes', 'Yes', 'No'],\n",
    "             'Loves Soda' : ['Yes', 'No', 'Yes', 'Yes',\n",
    "                           'Yes', 'No', 'No'],\n",
    "             'Age' : [7, 12, 18, 35, 38, 50, 83],\n",
    "             'Loves Cool As Ice' : ['No', 'No', 'Yes', 'Yes',\n",
    "                                    'Yes', 'No', 'No']})"
   ]
  },
  {
   "cell_type": "code",
   "execution_count": 28,
   "id": "2d3547ad",
   "metadata": {},
   "outputs": [
    {
     "name": "stdout",
     "output_type": "stream",
     "text": [
      "  Loves Popcorn Loves Soda  Age Loves Cool As Ice\n",
      "0           Yes        Yes    7                No\n",
      "1           Yes         No   12                No\n",
      "2            No        Yes   18               Yes\n",
      "3            No        Yes   35               Yes\n",
      "4           Yes        Yes   38               Yes\n",
      "5           Yes         No   50                No\n",
      "6            No         No   83                No\n"
     ]
    }
   ],
   "source": [
    "print(df)"
   ]
  },
  {
   "cell_type": "code",
   "execution_count": null,
   "id": "40409419",
   "metadata": {},
   "outputs": [],
   "source": []
  },
  {
   "cell_type": "code",
   "execution_count": null,
   "id": "b0f5be45",
   "metadata": {},
   "outputs": [],
   "source": []
  }
 ],
 "metadata": {
  "kernelspec": {
   "display_name": "Python 3 (ipykernel)",
   "language": "python",
   "name": "python3"
  },
  "language_info": {
   "codemirror_mode": {
    "name": "ipython",
    "version": 3
   },
   "file_extension": ".py",
   "mimetype": "text/x-python",
   "name": "python",
   "nbconvert_exporter": "python",
   "pygments_lexer": "ipython3",
   "version": "3.9.12"
  }
 },
 "nbformat": 4,
 "nbformat_minor": 5
}
