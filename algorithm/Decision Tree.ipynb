{
 "cells": [
  {
   "cell_type": "code",
   "execution_count": 1,
   "id": "36d68994",
   "metadata": {},
   "outputs": [],
   "source": [
    "import pandas as pd\n",
    "import numpy as np"
   ]
  },
  {
   "cell_type": "code",
   "execution_count": 2,
   "id": "1f1c7438",
   "metadata": {},
   "outputs": [],
   "source": [
    "df = pd.DataFrame({'Loves Popcorn': ['Yes', 'Yes', 'No', 'No',\n",
    "                                'Yes', 'Yes', 'No'],\n",
    "             'Loves Soda' : ['Yes', 'No', 'Yes', 'Yes',\n",
    "                           'Yes', 'No', 'No'],\n",
    "             'Age' : [7, 12, 18, 35, 38, 50, 83],\n",
    "             'Loves Cool As Ice' : ['No', 'No', 'Yes', 'Yes',\n",
    "                                    'Yes', 'No', 'No']})"
   ]
  },
  {
   "cell_type": "code",
   "execution_count": 3,
   "id": "42b05f80",
   "metadata": {},
   "outputs": [],
   "source": [
    "#replace categorical columns into numerical\n",
    "for col in df.columns:\n",
    "    if df[col].dtype == 'object':\n",
    "        #df[col].replace(df[col].unique().tolist(), range(0, len(df[col].unique())), inplace=True)\n",
    "        df[col].replace(['No', 'Yes'], range(0, 2), inplace=True)"
   ]
  },
  {
   "cell_type": "code",
   "execution_count": 4,
   "id": "8c6b6bf0",
   "metadata": {
    "scrolled": true
   },
   "outputs": [
    {
     "name": "stdout",
     "output_type": "stream",
     "text": [
      "   Loves Popcorn  Loves Soda  Age  Loves Cool As Ice\n",
      "0              1           1    7                  0\n",
      "1              1           0   12                  0\n",
      "2              0           1   18                  1\n",
      "3              0           1   35                  1\n",
      "4              1           1   38                  1\n",
      "5              1           0   50                  0\n",
      "6              0           0   83                  0\n"
     ]
    }
   ],
   "source": [
    "print(df)"
   ]
  },
  {
   "cell_type": "code",
   "execution_count": 5,
   "id": "55a1eabd",
   "metadata": {},
   "outputs": [],
   "source": [
    "np_data = np.array(df)"
   ]
  },
  {
   "cell_type": "code",
   "execution_count": 41,
   "id": "52cb11a8",
   "metadata": {},
   "outputs": [
    {
     "data": {
      "text/plain": [
       "7"
      ]
     },
     "execution_count": 41,
     "metadata": {},
     "output_type": "execute_result"
    }
   ],
   "source": [
    "len(np.unique(np_data[:, 2]))"
   ]
  },
  {
   "cell_type": "code",
   "execution_count": 102,
   "id": "9ed07bdd",
   "metadata": {},
   "outputs": [
    {
     "name": "stdout",
     "output_type": "stream",
     "text": [
      "7\n",
      "1 1\n",
      "0 0\n"
     ]
    }
   ],
   "source": [
    "column = 2\n",
    "print(len(np.unique(np_data[:, column])))\n",
    "gini_impurity = 0\n",
    "total_samples_in_leaf = len(np_data[:, column])\n",
    "weighted_impurity = 0.0\n",
    "#if column is categorical\n",
    "if len(np.unique(np_data[:, column])) == 2:\n",
    "    for target in np.unique(np_data[:, -1]):\n",
    "        yes =np.sum( (np_data[:, column] == 0) & (np_data[:, -1] == target))\n",
    "        no = np.sum( (np_data[:, column] == 1) & (np_data[:, -1] == target))\n",
    "        print(yes, no)\n",
    "        weighted_gini = (sum([yes, no]) /total_samples_in_leaf)\n",
    "        gini_impurity = 1 - (yes  / (yes + no))**2 - (no  / (yes + no))**2\n",
    "        weighted_impurity += gini_impurity* weighted_gini\n",
    "    print(f'weighted_impurity : {weighted_impurity:.3f}')\n",
    "#if column is continuous\n",
    "else:\n",
    "\n",
    "    sorted_values = np.sort(np_data[:, column])\n",
    "    average_values = [ (sorted_values[i] + sorted_values[i-1])/2  for i in range(1, len(sorted_continuous_values))]\n",
    "    for value in average_values:\n",
    "        for i in range(2):    \n",
    "            if i == 0:\n",
    "                yes =np.sum( (sorted_values < value) & (np_data[:, -1] == target))\n",
    "                no = np.sum( (sorted_values < value) & (np_data[:, -1] == -target))\n",
    "            else:\n",
    "            print(yes, no)\n",
    "            weighted_gini = (sum([yes, no]) /total_samples_in_leaf)\n",
    "            #gini_impurity = 1 - (yes  / (yes + no))**2 - (no  / (yes + no))**2\n",
    "            #weighted_impurity += gini_impurity* weighted_gini\n",
    "        break\n",
    "        print('---')   "
   ]
  },
  {
   "cell_type": "code",
   "execution_count": 113,
   "id": "b54a01e0",
   "metadata": {},
   "outputs": [
    {
     "data": {
      "text/plain": [
       "3"
      ]
     },
     "execution_count": 113,
     "metadata": {},
     "output_type": "execute_result"
    }
   ],
   "source": [
    "np.sum( (sorted_values > value) & (np_data[:, -1] == target))\n"
   ]
  },
  {
   "cell_type": "code",
   "execution_count": 110,
   "id": "1e00b1ff",
   "metadata": {},
   "outputs": [
    {
     "data": {
      "text/plain": [
       "1"
      ]
     },
     "execution_count": 110,
     "metadata": {},
     "output_type": "execute_result"
    }
   ],
   "source": [
    "target"
   ]
  },
  {
   "cell_type": "code",
   "execution_count": 109,
   "id": "645c8530",
   "metadata": {},
   "outputs": [
    {
     "data": {
      "text/plain": [
       "(array([ True, False, False, False, False, False, False]),\n",
       " array([0, 0, 1, 1, 1, 0, 0], dtype=int64))"
      ]
     },
     "execution_count": 109,
     "metadata": {},
     "output_type": "execute_result"
    }
   ],
   "source": [
    "sorted_values < value, np_data[:,-1]"
   ]
  },
  {
   "cell_type": "code",
   "execution_count": 25,
   "id": "bb57689c",
   "metadata": {},
   "outputs": [
    {
     "data": {
      "text/plain": [
       "[0.5714285714285714, 0.42857142857142855]"
      ]
     },
     "execution_count": 25,
     "metadata": {},
     "output_type": "execute_result"
    }
   ],
   "source": [
    "total_samples_in_leaf"
   ]
  },
  {
   "cell_type": "code",
   "execution_count": 24,
   "id": "a76fb0e6",
   "metadata": {},
   "outputs": [
    {
     "data": {
      "text/plain": [
       "[0.375, 0.4444444444444445]"
      ]
     },
     "execution_count": 24,
     "metadata": {},
     "output_type": "execute_result"
    }
   ],
   "source": [
    "gini_impurity"
   ]
  },
  {
   "cell_type": "code",
   "execution_count": 92,
   "id": "5143199c",
   "metadata": {},
   "outputs": [],
   "source": [
    "sorted_values\n",
    "value = 9.5"
   ]
  },
  {
   "cell_type": "code",
   "execution_count": 97,
   "id": "d66caa95",
   "metadata": {},
   "outputs": [
    {
     "data": {
      "text/plain": [
       "array([ True, False, False, False, False, False, False])"
      ]
     },
     "execution_count": 97,
     "metadata": {},
     "output_type": "execute_result"
    }
   ],
   "source": [
    "sorted_values < value"
   ]
  },
  {
   "cell_type": "code",
   "execution_count": 84,
   "id": "b0614b33",
   "metadata": {},
   "outputs": [
    {
     "name": "stdout",
     "output_type": "stream",
     "text": [
      "0 3\n"
     ]
    }
   ],
   "source": [
    "x= np.sum((sorted_values < value) & (np_data[:, -1] == 1))\n",
    "y= np.sum((sorted_values > value) & (np_data[:, -1] == 1))\n",
    "print(x, y)"
   ]
  },
  {
   "cell_type": "code",
   "execution_count": null,
   "id": "36064e6b",
   "metadata": {},
   "outputs": [],
   "source": []
  }
 ],
 "metadata": {
  "kernelspec": {
   "display_name": "Python 3 (ipykernel)",
   "language": "python",
   "name": "python3"
  },
  "language_info": {
   "codemirror_mode": {
    "name": "ipython",
    "version": 3
   },
   "file_extension": ".py",
   "mimetype": "text/x-python",
   "name": "python",
   "nbconvert_exporter": "python",
   "pygments_lexer": "ipython3",
   "version": "3.9.12"
  }
 },
 "nbformat": 4,
 "nbformat_minor": 5
}
