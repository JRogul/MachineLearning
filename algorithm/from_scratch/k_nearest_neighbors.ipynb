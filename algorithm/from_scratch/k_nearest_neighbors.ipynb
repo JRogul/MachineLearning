{
 "cells": [
  {
   "cell_type": "code",
   "execution_count": 105,
   "metadata": {},
   "outputs": [],
   "source": [
    "from sklearn import datasets\n",
    "import numpy as np\n",
    "from sklearn.model_selection import train_test_split"
   ]
  },
  {
   "cell_type": "code",
   "execution_count": 106,
   "metadata": {},
   "outputs": [],
   "source": [
    "iris = datasets.load_iris()\n",
    "X = iris['data']\n",
    "y = iris['target']\n",
    "X_train, X_test, y_train, y_test = train_test_split(X, y, test_size=0.2)"
   ]
  },
  {
   "cell_type": "code",
   "execution_count": 107,
   "metadata": {},
   "outputs": [],
   "source": [
    "class Nearest_Neighbors:\n",
    "    def __init__(self):\n",
    "        self.X = None\n",
    "        self.y = None\n",
    "    \n",
    "    def fit(self, X, y):\n",
    "        self.X = np.array(X)\n",
    "        self.y = np.array(y)\n",
    "        \n",
    "    def predict(self, X_test, y_test):\n",
    "        distances = np.sum(np.power(self.X[:] - X_test, 2), axis=1)\n",
    "        label = np.argmin(distances)\n",
    "        \n",
    "        return self.y[label], y_test"
   ]
  },
  {
   "cell_type": "code",
   "execution_count": 167,
   "metadata": {},
   "outputs": [],
   "source": [
    "def test_model(model):\n",
    "    score = 0\n",
    "    for i in range(len(X_test)):\n",
    "        pred, true_label = model.predict(X_test[i], y_test[i])\n",
    "        if pred == true_label:\n",
    "            score += 1\n",
    "    print(f'Score on test set: {score /len(X_test)*100:.1f}%')\n",
    "    return score / len(X_test)"
   ]
  },
  {
   "cell_type": "code",
   "execution_count": 168,
   "metadata": {},
   "outputs": [
    {
     "name": "stdout",
     "output_type": "stream",
     "text": [
      "Score on test set: 96.7%\n"
     ]
    }
   ],
   "source": [
    "model = Nearest_Neighbors()\n",
    "model.fit(X_train, y_train)\n",
    "score = test_model(model)"
   ]
  },
  {
   "cell_type": "code",
   "execution_count": 169,
   "metadata": {},
   "outputs": [],
   "source": [
    "class K_Nearest_Neighbors:\n",
    "    def __init__(self, K):\n",
    "        self.X = None\n",
    "        self.y = None\n",
    "        self.K = K\n",
    "\n",
    "    def fit(self, X, y):\n",
    "        self.X = np.array(X)\n",
    "        self.y = np.array(y)\n",
    "        \n",
    "    def predict(self, X_test, y_test):\n",
    "        distances = np.sum(np.power(self.X[:] - X_test, 2), axis=1)\n",
    "        indices = np.argsort(distances)[:self.K]\n",
    "        #majority vote\n",
    "        pred = np.argmax(np.bincount(self.y[indices]))\n",
    "        return pred, y_test"
   ]
  },
  {
   "cell_type": "code",
   "execution_count": 172,
   "metadata": {},
   "outputs": [
    {
     "name": "stdout",
     "output_type": "stream",
     "text": [
      "Score on test set: 96.7%\n"
     ]
    }
   ],
   "source": [
    "model = K_Nearest_Neighbors(K=3)\n",
    "model.fit(X_train, y_train)\n",
    "score = test_model(model)"
   ]
  }
 ],
 "metadata": {
  "kernelspec": {
   "display_name": "venv",
   "language": "python",
   "name": "python3"
  },
  "language_info": {
   "codemirror_mode": {
    "name": "ipython",
    "version": 3
   },
   "file_extension": ".py",
   "mimetype": "text/x-python",
   "name": "python",
   "nbconvert_exporter": "python",
   "pygments_lexer": "ipython3",
   "version": "3.9.12"
  },
  "orig_nbformat": 4
 },
 "nbformat": 4,
 "nbformat_minor": 2
}
