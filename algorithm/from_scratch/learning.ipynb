{
  "nbformat": 4,
  "nbformat_minor": 0,
  "metadata": {
    "colab": {
      "provenance": []
    },
    "kernelspec": {
      "name": "python3",
      "display_name": "Python 3"
    },
    "language_info": {
      "name": "python"
    }
  },
  "cells": [
    {
      "cell_type": "code",
      "execution_count": 9,
      "metadata": {
        "id": "rCO7P8U-YxaO"
      },
      "outputs": [],
      "source": [
        "import numpy as np\n",
        "import torch\n",
        "import pandas as pd\n",
        "import seaborn as sns\n",
        "import matplotlib.pyplot as plt\n",
        "from sklearn.naive_bayes import CategoricalNB"
      ]
    },
    {
      "cell_type": "code",
      "source": [],
      "metadata": {
        "id": "fxojw4W9KkKp"
      },
      "execution_count": 10,
      "outputs": []
    },
    {
      "cell_type": "code",
      "source": [
        "def create_datasets():\n",
        "  Outlook = ['Rainy', 'Sunny', 'Overcast', 'Overcast', 'Sunny', 'Rainy',\n",
        "            'Sunny', 'Overcast', 'Rainy', 'Sunny', 'Sunny', 'Rainy',\n",
        "            'Overcast', 'Overcast']\n",
        "  Play = ['Yes', 'Yes', 'Yes', 'Yes',\n",
        "          'No', 'Yes', 'Yes', 'Yes', \n",
        "          'No', 'No', 'Yes', 'No','Yes', 'Yes']\n",
        "\n",
        "  df1 = pd.DataFrame(data={'Outlook': Outlook,\n",
        "                          'Play': Play})\n",
        "  Outlook = ['Rainy','Rainy', 'Overcast', 'Sunny', 'Sunny', 'Sunny', 'Overcast', \n",
        "            'Rainy', 'Rainy','Sunny', 'Rainy', 'Overcast', 'Overcast', 'Sunny']\n",
        "  Temp = ['Hot', 'Hot','Hot', 'Mild', 'Cool', 'Cool', 'Cool', 'Mild',\n",
        "          'Cool', 'Mild','Mild', 'Mild', 'Hot', 'Mild', ]\n",
        "  Humidity = ['High', 'High','High', 'High', 'Normal', 'Normal', 'Normal', 'High',\n",
        "          'Normal', 'Normal','Normal', 'High', 'Normal', 'High', ]\n",
        "  Windy = ['False', 'True','False', 'False', 'False', 'True', 'True', 'False',\n",
        "          'False', 'False','True', 'True', 'False', 'True', ]\n",
        "  play =['No', 'No','Yes', 'Yes', 'Yes', 'No', 'Yes', 'No',\n",
        "          'Yes', 'Yes','Yes', 'Yes', 'Yes', 'No']\n",
        "\n",
        "  df2 = pd.DataFrame(data={'Outlook': Outlook,\n",
        "                          'Temp': Temp,\n",
        "                          'Humidity': Humidity,\n",
        "                          'Windy': Windy,\n",
        "                          'play': play})\n",
        "  return df1, df2                  "
      ],
      "metadata": {
        "id": "79rYIgVNMsXW"
      },
      "execution_count": 11,
      "outputs": []
    },
    {
      "cell_type": "code",
      "source": [
        "#TODO create set to pass predict data as strings, not int\n",
        "class naive():\n",
        "\n",
        "  def fit(self, df, target_column):\n",
        "\n",
        "    assert isinstance(df, pd.DataFrame) or isinstance(df, np.ndarray), f'input data should be DataFrame or np array, got {type(self.df)}'\n",
        "    \n",
        "    self.target_names = df[target_column].unique()\n",
        "    \n",
        "    for count, dtype in enumerate(df.dtypes):\n",
        "      if dtype != 'int64':\n",
        "        column = df.columns[count]\n",
        "        df[column].replace(df[column].unique(), range(len(df[column].unique())), inplace=True)\n",
        "\n",
        "    #np.concatenate([df.drop(columns='Play').values.reshape(len(df), 1), df['Play'].values.reshape(len(df['Play']), 1)], axis=1)\n",
        "    self.df_to_np = np.concatenate([df.drop(columns=target_column).values.reshape(len(df), len(df.columns) - 1), \n",
        "                df[target_column].values.reshape(len(df[target_column]), 1)], axis=1)\n",
        "    \n",
        " \n",
        "  def print_data(self):\n",
        "    print(df)\n",
        "    print(self.df_to_np.shape[2])\n",
        "\n",
        "\n",
        "  def predict(self, to_predict):\n",
        "    independent_cols = self.df_to_np[:, 0:-1]\n",
        "    dependent_col = self.df_to_np[:, -1]\n",
        "    #to correct\n",
        "    results = []\n",
        "    for target in np.unique(dependent_col):\n",
        "      result = 0.0\n",
        "      p_xys = []\n",
        "      p_xs = []\n",
        "      for i in range(self.df_to_np.shape[1] - 1):\n",
        "        independent_col = independent_cols[:, i]\n",
        "        number_of_x_in_y = np.count_nonzero(independent_col == to_predict[i])\n",
        "\n",
        "        p_x = number_of_x_in_y / len(independent_col)\n",
        "        p_y = np.count_nonzero(dependent_col == target) / len(independent_col)\n",
        "        p_xy = np.sum((independent_col == to_predict[i]) & (dependent_col == target)) / np.sum(dependent_col == target)\n",
        "\n",
        "        #print(f'p_x: {p_x}, p_xy:{p_xy}, p_y:{p_y}')\n",
        "        p_xys.append(p_xy)\n",
        "        p_xs.append(p_x)\n",
        "      #print(p_xys, p_y)\n",
        "      result = (np.prod(p_xys) * p_y) / np.prod(p_xs) \n",
        "      results.append(result)\n",
        "      print(f'value for {self.target_names[target]}: {result:.5f}')\n",
        "    for count, target in enumerate(np.unique(dependent_col)):\n",
        "      print(f'probability for {self.target_names[target]} : {results[count] / sum(results):.5f}')"
      ],
      "metadata": {
        "id": "ucgJCkLXcxuK"
      },
      "execution_count": 21,
      "outputs": []
    },
    {
      "cell_type": "code",
      "source": [
        "df1, df2 = create_datasets()"
      ],
      "metadata": {
        "id": "WV8uEsjqNSeJ"
      },
      "execution_count": 22,
      "outputs": []
    },
    {
      "cell_type": "code",
      "source": [
        "na = naive()\n",
        "na.fit(df1, 'Play')\n",
        "na.predict([1])"
      ],
      "metadata": {
        "colab": {
          "base_uri": "https://localhost:8080/"
        },
        "id": "d81a2kIhcASU",
        "outputId": "382a954d-9a75-4154-ef7e-4ed139a97cc7"
      },
      "execution_count": 23,
      "outputs": [
        {
          "output_type": "stream",
          "name": "stdout",
          "text": [
            "value for Yes: 0.60000\n",
            "value for No: 0.40000\n",
            "probability for Yes : 0.60000\n",
            "probability for No : 0.40000\n"
          ]
        }
      ]
    },
    {
      "cell_type": "code",
      "source": [
        "na = naive()\n",
        "na.fit(df2, 'play')\n",
        "#na.print_data()\n",
        "#Rainy Cool High True ?\n",
        "na.predict([0,2, 0,1])"
      ],
      "metadata": {
        "colab": {
          "base_uri": "https://localhost:8080/"
        },
        "id": "9pk67PRGf_gt",
        "outputId": "b4a5b032-4fd7-41a8-8a5d-cabf42c8a48d"
      },
      "execution_count": 24,
      "outputs": [
        {
          "output_type": "stream",
          "name": "stdout",
          "text": [
            "value for No: 0.94080\n",
            "value for Yes: 0.24198\n",
            "probability for No : 0.79542\n",
            "probability for Yes : 0.20458\n"
          ]
        }
      ]
    },
    {
      "cell_type": "code",
      "source": [],
      "metadata": {
        "id": "kqnGudj_b3D4"
      },
      "execution_count": 15,
      "outputs": []
    }
  ]
}